{
 "cells": [
  {
   "cell_type": "code",
   "execution_count": 1,
   "metadata": {},
   "outputs": [],
   "source": [
    "%matplotlib inline\n",
    "from __future__ import absolute_import, division, print_function, unicode_literals\n",
    "import numpy as np # linear algebra\n",
    "import seaborn as sns\n",
    "sns.set(style='whitegrid')\n",
    "import pandas as pd # data processing, CSV file I/O (e.g. pd.read_csv)\n",
    "import matplotlib.pyplot as plt\n",
    "import os\n"
   ]
  },
  {
   "cell_type": "code",
   "execution_count": 2,
   "metadata": {},
   "outputs": [],
   "source": [
    "df=pd.read_csv('SAheart.data', sep=\",\")"
   ]
  },
  {
   "cell_type": "code",
   "execution_count": 3,
   "metadata": {},
   "outputs": [],
   "source": [
    "X = df[['age','ldl']].values\n",
    "y = df.chd.values"
   ]
  },
  {
   "cell_type": "code",
   "execution_count": 4,
   "metadata": {},
   "outputs": [],
   "source": [
    "# Define the max-min normalized function\n",
    "def min_max_normalized(data):\n",
    "    col_max = np.max(data, axis=0)\n",
    "    col_min = np.min(data, axis=0)\n",
    "    return np.divide(data - col_min, col_max - col_min)\n",
    "\n",
    "# Define the mean-std normalized function\n",
    "def mean_std_normalized(data):\n",
    "    col_mean = np.mean(data, axis=0)\n",
    "    col_std = np.std(data, axis=0)\n",
    "    return np.divide(data - col_mean, col_std)\n",
    "\n",
    "# Definition of the weights of evidence w_j = beta_j*phi(x)+alpha_j, refer to Equ.16 in paper NNBelief\n",
    "def trained_weight(A,b,X):  \n",
    "    weights= np.empty((len(X.index), len(A)))\n",
    "    for i in range(len(A)):\n",
    "        weights[:,[i]]= np.array([X[i]*A[i]+b]).T\n",
    "    return weights \n",
    "\n",
    "# Calculate positive & negative weights of evidence (w^+,w^-，参见Equ.16下面那段描述)\n",
    "def weight_of_evidence(weight):\n",
    "    W=[]\n",
    "    if isinstance(weight[0],list):\n",
    "        for i in range(len(weight)):\n",
    "            W.append((max(0,weight[i][0]),max(0,-weight[i][0])))\n",
    "    else:\n",
    "        for i in range(len(weight)):\n",
    "            W.append((max(0,weight[i]),max(0,-weight[i])))        \n",
    "    return W\n",
    "\n",
    "# Calculate the sum of positive & negative weights (参见Equ.17下面一行公式)\n",
    "def sum_weight(W):\n",
    "    weight_pos_temp = np.empty((W.shape[0], W.shape[1]))\n",
    "    weight_neg_temp = np.empty((W.shape[0], W.shape[1]))\n",
    "    weight_pos = np.empty((W.shape[0], 1))\n",
    "    weight_neg = np.empty((W.shape[0], 1))\n",
    "    for i in range(W.shape[1]):\n",
    "        weight_pos_temp[:,[i]]=np.array(weight_of_evidence(W[:,[i]]))[:,[0]]\n",
    "        weight_neg_temp[:,[i]]=np.array(weight_of_evidence(W[:,[i]]))[:,[1]]\n",
    "    weight_pos=np.sum(weight_pos_temp,axis=1)\n",
    "    weight_neg=np.sum(weight_neg_temp,axis=1)\n",
    "    return(weight_pos,weight_neg)\n",
    "\n",
    "# Definition of the degree of conflict k=[1-exp(-w^+)]*[1-exp(-w^-)] (Equ.21c)\n",
    "def degree_of_conflict(W_pos,W_neg):\n",
    "    k=(1-np.exp(-1*W_pos))*(1-np.exp(-1*W_neg))\n",
    "    return k\n",
    "\n",
    "# Calculate conflict from trained parameters and feature values\n",
    "def conflict(A,b,X):\n",
    "    w_j=trained_weight(A,b,X)   \n",
    "    weight_pos,weight_neg=sum_weight(w_j)\n",
    "    k=degree_of_conflict(weight_pos,weight_neg)\n",
    "    return k\n",
    "\n"
   ]
  },
  {
   "cell_type": "code",
   "execution_count": 5,
   "metadata": {},
   "outputs": [],
   "source": [
    "\n",
    "ldl = np.arange(0,15,0.3)\n",
    "age = np.arange(0,70,1.4)\n",
    "\n",
    "ldl_norm=mean_std_normalized(ldl)\n",
    "age_norm=mean_std_normalized(age)\n",
    "\n",
    "#将原始数据变成网格数据形式\n",
    "X,Y = np.meshgrid(age_norm,ldl_norm)"
   ]
  },
  {
   "cell_type": "code",
   "execution_count": 6,
   "metadata": {},
   "outputs": [],
   "source": [
    "beta= [[0.5974239], [0.3825687]]"
   ]
  },
  {
   "cell_type": "code",
   "execution_count": 7,
   "metadata": {},
   "outputs": [],
   "source": [
    "alpha= [-0.36972204]"
   ]
  },
  {
   "cell_type": "code",
   "execution_count": 8,
   "metadata": {},
   "outputs": [],
   "source": [
    "kk=conflict(beta,alpha,pd.DataFrame({0:(X.flatten()),1:(Y.flatten())})).reshape(50,50)"
   ]
  },
  {
   "cell_type": "code",
   "execution_count": 9,
   "metadata": {},
   "outputs": [
    {
     "data": {
      "text/plain": [
       "Text(0.5,1,u'degree of conflict')"
      ]
     },
     "execution_count": 9,
     "metadata": {},
     "output_type": "execute_result"
    },
    {
     "data": {
      "image/png": "[encoded data removed]",
      "text/plain": [
       "<Figure size 432x288 with 1 Axes>"
      ]
     },
     "metadata": {},
     "output_type": "display_data"
    }
   ],
   "source": [
    "fig, ax = plt.subplots()\n",
    "CS = ax.contour(X, Y, kk)\n",
    "ax.clabel(CS, inline=1, fontsize=10)\n",
    "ax.set_title('degree of conflict')"
   ]
  }
 ],
 "metadata": {
  "kernelspec": {
   "display_name": "Python 3",
   "language": "python",
   "name": "python3"
  },
  "language_info": {
   "codemirror_mode": {
    "name": "ipython",
    "version": 3
   },
   "file_extension": ".py",
   "mimetype": "text/x-python",
   "name": "python",
   "nbconvert_exporter": "python",
   "pygments_lexer": "ipython3",
   "version": "3.7.4"
  }
 },
 "nbformat": 4,
 "nbformat_minor": 2
}
