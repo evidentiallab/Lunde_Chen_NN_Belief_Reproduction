{
 "cells": [
  {
   "cell_type": "markdown",
   "id": "d3ff6e7a",
   "metadata": {},
   "source": [
    "https://moviecultists.com/do-you-need-to-normalize-variables-for-logistic-regression\n",
    "\n",
    "https://www.quora.com/How-does-feature-scaling-affect-logistic-regression-model\n",
    "\n",
    "https://towardsai.net/p/data-science/how-when-and-why-should-you-normalize-standardize-rescale-your-data-3f083def38ff"
   ]
  },
  {
   "cell_type": "code",
   "execution_count": null,
   "id": "4fffdd4f",
   "metadata": {},
   "outputs": [],
   "source": []
  },
  {
   "cell_type": "code",
   "execution_count": null,
   "id": "d54d3406",
   "metadata": {},
   "outputs": [],
   "source": []
  },
  {
   "cell_type": "code",
   "execution_count": null,
   "id": "15580f64",
   "metadata": {},
   "outputs": [],
   "source": []
  },
  {
   "cell_type": "code",
   "execution_count": null,
   "id": "0b4b3bb4",
   "metadata": {},
   "outputs": [],
   "source": []
  },
  {
   "cell_type": "code",
   "execution_count": null,
   "id": "187325fb",
   "metadata": {},
   "outputs": [],
   "source": []
  },
  {
   "cell_type": "code",
   "execution_count": 1,
   "id": "e41f0ad1",
   "metadata": {},
   "outputs": [],
   "source": [
    "%matplotlib inline\n",
    "import matplotlib\n",
    "import matplotlib.pyplot as plt\n",
    "import pandas as pd\n",
    "import numpy as np\n",
    "import sys\n",
    "import sklearn\n",
    "import seaborn as sns"
   ]
  },
  {
   "cell_type": "code",
   "execution_count": 2,
   "id": "749096c9",
   "metadata": {},
   "outputs": [
    {
     "data": {
      "text/html": [
       "<div>\n",
       "<style scoped>\n",
       "    .dataframe tbody tr th:only-of-type {\n",
       "        vertical-align: middle;\n",
       "    }\n",
       "\n",
       "    .dataframe tbody tr th {\n",
       "        vertical-align: top;\n",
       "    }\n",
       "\n",
       "    .dataframe thead th {\n",
       "        text-align: right;\n",
       "    }\n",
       "</style>\n",
       "<table border=\"1\" class=\"dataframe\">\n",
       "  <thead>\n",
       "    <tr style=\"text-align: right;\">\n",
       "      <th></th>\n",
       "      <th>row.names</th>\n",
       "      <th>sbp</th>\n",
       "      <th>tobacco</th>\n",
       "      <th>ldl</th>\n",
       "      <th>adiposity</th>\n",
       "      <th>famhist</th>\n",
       "      <th>typea</th>\n",
       "      <th>obesity</th>\n",
       "      <th>alcohol</th>\n",
       "      <th>age</th>\n",
       "      <th>chd</th>\n",
       "    </tr>\n",
       "  </thead>\n",
       "  <tbody>\n",
       "    <tr>\n",
       "      <th>0</th>\n",
       "      <td>1</td>\n",
       "      <td>160</td>\n",
       "      <td>12.00</td>\n",
       "      <td>5.73</td>\n",
       "      <td>23.11</td>\n",
       "      <td>Present</td>\n",
       "      <td>49</td>\n",
       "      <td>25.30</td>\n",
       "      <td>97.20</td>\n",
       "      <td>52</td>\n",
       "      <td>1</td>\n",
       "    </tr>\n",
       "    <tr>\n",
       "      <th>1</th>\n",
       "      <td>2</td>\n",
       "      <td>144</td>\n",
       "      <td>0.01</td>\n",
       "      <td>4.41</td>\n",
       "      <td>28.61</td>\n",
       "      <td>Absent</td>\n",
       "      <td>55</td>\n",
       "      <td>28.87</td>\n",
       "      <td>2.06</td>\n",
       "      <td>63</td>\n",
       "      <td>1</td>\n",
       "    </tr>\n",
       "    <tr>\n",
       "      <th>2</th>\n",
       "      <td>3</td>\n",
       "      <td>118</td>\n",
       "      <td>0.08</td>\n",
       "      <td>3.48</td>\n",
       "      <td>32.28</td>\n",
       "      <td>Present</td>\n",
       "      <td>52</td>\n",
       "      <td>29.14</td>\n",
       "      <td>3.81</td>\n",
       "      <td>46</td>\n",
       "      <td>0</td>\n",
       "    </tr>\n",
       "    <tr>\n",
       "      <th>3</th>\n",
       "      <td>4</td>\n",
       "      <td>170</td>\n",
       "      <td>7.50</td>\n",
       "      <td>6.41</td>\n",
       "      <td>38.03</td>\n",
       "      <td>Present</td>\n",
       "      <td>51</td>\n",
       "      <td>31.99</td>\n",
       "      <td>24.26</td>\n",
       "      <td>58</td>\n",
       "      <td>1</td>\n",
       "    </tr>\n",
       "    <tr>\n",
       "      <th>4</th>\n",
       "      <td>5</td>\n",
       "      <td>134</td>\n",
       "      <td>13.60</td>\n",
       "      <td>3.50</td>\n",
       "      <td>27.78</td>\n",
       "      <td>Present</td>\n",
       "      <td>60</td>\n",
       "      <td>25.99</td>\n",
       "      <td>57.34</td>\n",
       "      <td>49</td>\n",
       "      <td>1</td>\n",
       "    </tr>\n",
       "    <tr>\n",
       "      <th>...</th>\n",
       "      <td>...</td>\n",
       "      <td>...</td>\n",
       "      <td>...</td>\n",
       "      <td>...</td>\n",
       "      <td>...</td>\n",
       "      <td>...</td>\n",
       "      <td>...</td>\n",
       "      <td>...</td>\n",
       "      <td>...</td>\n",
       "      <td>...</td>\n",
       "      <td>...</td>\n",
       "    </tr>\n",
       "    <tr>\n",
       "      <th>457</th>\n",
       "      <td>459</td>\n",
       "      <td>214</td>\n",
       "      <td>0.40</td>\n",
       "      <td>5.98</td>\n",
       "      <td>31.72</td>\n",
       "      <td>Absent</td>\n",
       "      <td>64</td>\n",
       "      <td>28.45</td>\n",
       "      <td>0.00</td>\n",
       "      <td>58</td>\n",
       "      <td>0</td>\n",
       "    </tr>\n",
       "    <tr>\n",
       "      <th>458</th>\n",
       "      <td>460</td>\n",
       "      <td>182</td>\n",
       "      <td>4.20</td>\n",
       "      <td>4.41</td>\n",
       "      <td>32.10</td>\n",
       "      <td>Absent</td>\n",
       "      <td>52</td>\n",
       "      <td>28.61</td>\n",
       "      <td>18.72</td>\n",
       "      <td>52</td>\n",
       "      <td>1</td>\n",
       "    </tr>\n",
       "    <tr>\n",
       "      <th>459</th>\n",
       "      <td>461</td>\n",
       "      <td>108</td>\n",
       "      <td>3.00</td>\n",
       "      <td>1.59</td>\n",
       "      <td>15.23</td>\n",
       "      <td>Absent</td>\n",
       "      <td>40</td>\n",
       "      <td>20.09</td>\n",
       "      <td>26.64</td>\n",
       "      <td>55</td>\n",
       "      <td>0</td>\n",
       "    </tr>\n",
       "    <tr>\n",
       "      <th>460</th>\n",
       "      <td>462</td>\n",
       "      <td>118</td>\n",
       "      <td>5.40</td>\n",
       "      <td>11.61</td>\n",
       "      <td>30.79</td>\n",
       "      <td>Absent</td>\n",
       "      <td>64</td>\n",
       "      <td>27.35</td>\n",
       "      <td>23.97</td>\n",
       "      <td>40</td>\n",
       "      <td>0</td>\n",
       "    </tr>\n",
       "    <tr>\n",
       "      <th>461</th>\n",
       "      <td>463</td>\n",
       "      <td>132</td>\n",
       "      <td>0.00</td>\n",
       "      <td>4.82</td>\n",
       "      <td>33.41</td>\n",
       "      <td>Present</td>\n",
       "      <td>62</td>\n",
       "      <td>14.70</td>\n",
       "      <td>0.00</td>\n",
       "      <td>46</td>\n",
       "      <td>1</td>\n",
       "    </tr>\n",
       "  </tbody>\n",
       "</table>\n",
       "<p>462 rows × 11 columns</p>\n",
       "</div>"
      ],
      "text/plain": [
       "     row.names  sbp  tobacco    ldl  adiposity  famhist  typea  obesity  \\\n",
       "0            1  160    12.00   5.73      23.11  Present     49    25.30   \n",
       "1            2  144     0.01   4.41      28.61   Absent     55    28.87   \n",
       "2            3  118     0.08   3.48      32.28  Present     52    29.14   \n",
       "3            4  170     7.50   6.41      38.03  Present     51    31.99   \n",
       "4            5  134    13.60   3.50      27.78  Present     60    25.99   \n",
       "..         ...  ...      ...    ...        ...      ...    ...      ...   \n",
       "457        459  214     0.40   5.98      31.72   Absent     64    28.45   \n",
       "458        460  182     4.20   4.41      32.10   Absent     52    28.61   \n",
       "459        461  108     3.00   1.59      15.23   Absent     40    20.09   \n",
       "460        462  118     5.40  11.61      30.79   Absent     64    27.35   \n",
       "461        463  132     0.00   4.82      33.41  Present     62    14.70   \n",
       "\n",
       "     alcohol  age  chd  \n",
       "0      97.20   52    1  \n",
       "1       2.06   63    1  \n",
       "2       3.81   46    0  \n",
       "3      24.26   58    1  \n",
       "4      57.34   49    1  \n",
       "..       ...  ...  ...  \n",
       "457     0.00   58    0  \n",
       "458    18.72   52    1  \n",
       "459    26.64   55    0  \n",
       "460    23.97   40    0  \n",
       "461     0.00   46    1  \n",
       "\n",
       "[462 rows x 11 columns]"
      ]
     },
     "execution_count": 2,
     "metadata": {},
     "output_type": "execute_result"
    }
   ],
   "source": [
    "heart = pd.read_csv(\"SAheart.data\")\n",
    "heart"
   ]
  },
  {
   "cell_type": "code",
   "execution_count": 3,
   "id": "e470b0e0",
   "metadata": {
    "scrolled": true
   },
   "outputs": [
    {
     "data": {
      "text/html": [
       "<div>\n",
       "<style scoped>\n",
       "    .dataframe tbody tr th:only-of-type {\n",
       "        vertical-align: middle;\n",
       "    }\n",
       "\n",
       "    .dataframe tbody tr th {\n",
       "        vertical-align: top;\n",
       "    }\n",
       "\n",
       "    .dataframe thead th {\n",
       "        text-align: right;\n",
       "    }\n",
       "</style>\n",
       "<table border=\"1\" class=\"dataframe\">\n",
       "  <thead>\n",
       "    <tr style=\"text-align: right;\">\n",
       "      <th></th>\n",
       "      <th>sbp</th>\n",
       "      <th>tobacco</th>\n",
       "      <th>ldl</th>\n",
       "      <th>adiposity</th>\n",
       "      <th>famhist</th>\n",
       "      <th>typea</th>\n",
       "      <th>obesity</th>\n",
       "      <th>alcohol</th>\n",
       "      <th>age</th>\n",
       "      <th>chd</th>\n",
       "    </tr>\n",
       "  </thead>\n",
       "  <tbody>\n",
       "    <tr>\n",
       "      <th>0</th>\n",
       "      <td>160</td>\n",
       "      <td>12.00</td>\n",
       "      <td>5.73</td>\n",
       "      <td>23.11</td>\n",
       "      <td>1</td>\n",
       "      <td>49</td>\n",
       "      <td>25.30</td>\n",
       "      <td>97.20</td>\n",
       "      <td>52</td>\n",
       "      <td>1</td>\n",
       "    </tr>\n",
       "    <tr>\n",
       "      <th>1</th>\n",
       "      <td>144</td>\n",
       "      <td>0.01</td>\n",
       "      <td>4.41</td>\n",
       "      <td>28.61</td>\n",
       "      <td>0</td>\n",
       "      <td>55</td>\n",
       "      <td>28.87</td>\n",
       "      <td>2.06</td>\n",
       "      <td>63</td>\n",
       "      <td>1</td>\n",
       "    </tr>\n",
       "    <tr>\n",
       "      <th>2</th>\n",
       "      <td>118</td>\n",
       "      <td>0.08</td>\n",
       "      <td>3.48</td>\n",
       "      <td>32.28</td>\n",
       "      <td>1</td>\n",
       "      <td>52</td>\n",
       "      <td>29.14</td>\n",
       "      <td>3.81</td>\n",
       "      <td>46</td>\n",
       "      <td>0</td>\n",
       "    </tr>\n",
       "    <tr>\n",
       "      <th>3</th>\n",
       "      <td>170</td>\n",
       "      <td>7.50</td>\n",
       "      <td>6.41</td>\n",
       "      <td>38.03</td>\n",
       "      <td>1</td>\n",
       "      <td>51</td>\n",
       "      <td>31.99</td>\n",
       "      <td>24.26</td>\n",
       "      <td>58</td>\n",
       "      <td>1</td>\n",
       "    </tr>\n",
       "    <tr>\n",
       "      <th>4</th>\n",
       "      <td>134</td>\n",
       "      <td>13.60</td>\n",
       "      <td>3.50</td>\n",
       "      <td>27.78</td>\n",
       "      <td>1</td>\n",
       "      <td>60</td>\n",
       "      <td>25.99</td>\n",
       "      <td>57.34</td>\n",
       "      <td>49</td>\n",
       "      <td>1</td>\n",
       "    </tr>\n",
       "    <tr>\n",
       "      <th>...</th>\n",
       "      <td>...</td>\n",
       "      <td>...</td>\n",
       "      <td>...</td>\n",
       "      <td>...</td>\n",
       "      <td>...</td>\n",
       "      <td>...</td>\n",
       "      <td>...</td>\n",
       "      <td>...</td>\n",
       "      <td>...</td>\n",
       "      <td>...</td>\n",
       "    </tr>\n",
       "    <tr>\n",
       "      <th>457</th>\n",
       "      <td>214</td>\n",
       "      <td>0.40</td>\n",
       "      <td>5.98</td>\n",
       "      <td>31.72</td>\n",
       "      <td>0</td>\n",
       "      <td>64</td>\n",
       "      <td>28.45</td>\n",
       "      <td>0.00</td>\n",
       "      <td>58</td>\n",
       "      <td>0</td>\n",
       "    </tr>\n",
       "    <tr>\n",
       "      <th>458</th>\n",
       "      <td>182</td>\n",
       "      <td>4.20</td>\n",
       "      <td>4.41</td>\n",
       "      <td>32.10</td>\n",
       "      <td>0</td>\n",
       "      <td>52</td>\n",
       "      <td>28.61</td>\n",
       "      <td>18.72</td>\n",
       "      <td>52</td>\n",
       "      <td>1</td>\n",
       "    </tr>\n",
       "    <tr>\n",
       "      <th>459</th>\n",
       "      <td>108</td>\n",
       "      <td>3.00</td>\n",
       "      <td>1.59</td>\n",
       "      <td>15.23</td>\n",
       "      <td>0</td>\n",
       "      <td>40</td>\n",
       "      <td>20.09</td>\n",
       "      <td>26.64</td>\n",
       "      <td>55</td>\n",
       "      <td>0</td>\n",
       "    </tr>\n",
       "    <tr>\n",
       "      <th>460</th>\n",
       "      <td>118</td>\n",
       "      <td>5.40</td>\n",
       "      <td>11.61</td>\n",
       "      <td>30.79</td>\n",
       "      <td>0</td>\n",
       "      <td>64</td>\n",
       "      <td>27.35</td>\n",
       "      <td>23.97</td>\n",
       "      <td>40</td>\n",
       "      <td>0</td>\n",
       "    </tr>\n",
       "    <tr>\n",
       "      <th>461</th>\n",
       "      <td>132</td>\n",
       "      <td>0.00</td>\n",
       "      <td>4.82</td>\n",
       "      <td>33.41</td>\n",
       "      <td>1</td>\n",
       "      <td>62</td>\n",
       "      <td>14.70</td>\n",
       "      <td>0.00</td>\n",
       "      <td>46</td>\n",
       "      <td>1</td>\n",
       "    </tr>\n",
       "  </tbody>\n",
       "</table>\n",
       "<p>462 rows × 10 columns</p>\n",
       "</div>"
      ],
      "text/plain": [
       "     sbp  tobacco    ldl  adiposity  famhist  typea  obesity  alcohol  age  \\\n",
       "0    160    12.00   5.73      23.11        1     49    25.30    97.20   52   \n",
       "1    144     0.01   4.41      28.61        0     55    28.87     2.06   63   \n",
       "2    118     0.08   3.48      32.28        1     52    29.14     3.81   46   \n",
       "3    170     7.50   6.41      38.03        1     51    31.99    24.26   58   \n",
       "4    134    13.60   3.50      27.78        1     60    25.99    57.34   49   \n",
       "..   ...      ...    ...        ...      ...    ...      ...      ...  ...   \n",
       "457  214     0.40   5.98      31.72        0     64    28.45     0.00   58   \n",
       "458  182     4.20   4.41      32.10        0     52    28.61    18.72   52   \n",
       "459  108     3.00   1.59      15.23        0     40    20.09    26.64   55   \n",
       "460  118     5.40  11.61      30.79        0     64    27.35    23.97   40   \n",
       "461  132     0.00   4.82      33.41        1     62    14.70     0.00   46   \n",
       "\n",
       "     chd  \n",
       "0      1  \n",
       "1      1  \n",
       "2      0  \n",
       "3      1  \n",
       "4      1  \n",
       "..   ...  \n",
       "457    0  \n",
       "458    1  \n",
       "459    0  \n",
       "460    0  \n",
       "461    1  \n",
       "\n",
       "[462 rows x 10 columns]"
      ]
     },
     "execution_count": 3,
     "metadata": {},
     "output_type": "execute_result"
    }
   ],
   "source": [
    "heart.famhist.replace(to_replace=['Present', 'Absent'], value=[1, 0], inplace=True)\n",
    "heart.drop(['row.names'], axis=1, inplace=True)\n",
    "heart"
   ]
  },
  {
   "cell_type": "code",
   "execution_count": null,
   "id": "82a8f4b3",
   "metadata": {},
   "outputs": [],
   "source": []
  },
  {
   "cell_type": "code",
   "execution_count": 4,
   "id": "2a8595ea",
   "metadata": {},
   "outputs": [
    {
     "data": {
      "text/html": [
       "<div>\n",
       "<style scoped>\n",
       "    .dataframe tbody tr th:only-of-type {\n",
       "        vertical-align: middle;\n",
       "    }\n",
       "\n",
       "    .dataframe tbody tr th {\n",
       "        vertical-align: top;\n",
       "    }\n",
       "\n",
       "    .dataframe thead th {\n",
       "        text-align: right;\n",
       "    }\n",
       "</style>\n",
       "<table border=\"1\" class=\"dataframe\">\n",
       "  <thead>\n",
       "    <tr style=\"text-align: right;\">\n",
       "      <th></th>\n",
       "      <th>age</th>\n",
       "      <th>ldl</th>\n",
       "    </tr>\n",
       "  </thead>\n",
       "  <tbody>\n",
       "    <tr>\n",
       "      <th>0</th>\n",
       "      <td>52</td>\n",
       "      <td>5.73</td>\n",
       "    </tr>\n",
       "    <tr>\n",
       "      <th>1</th>\n",
       "      <td>63</td>\n",
       "      <td>4.41</td>\n",
       "    </tr>\n",
       "    <tr>\n",
       "      <th>2</th>\n",
       "      <td>46</td>\n",
       "      <td>3.48</td>\n",
       "    </tr>\n",
       "    <tr>\n",
       "      <th>3</th>\n",
       "      <td>58</td>\n",
       "      <td>6.41</td>\n",
       "    </tr>\n",
       "    <tr>\n",
       "      <th>4</th>\n",
       "      <td>49</td>\n",
       "      <td>3.50</td>\n",
       "    </tr>\n",
       "    <tr>\n",
       "      <th>...</th>\n",
       "      <td>...</td>\n",
       "      <td>...</td>\n",
       "    </tr>\n",
       "    <tr>\n",
       "      <th>457</th>\n",
       "      <td>58</td>\n",
       "      <td>5.98</td>\n",
       "    </tr>\n",
       "    <tr>\n",
       "      <th>458</th>\n",
       "      <td>52</td>\n",
       "      <td>4.41</td>\n",
       "    </tr>\n",
       "    <tr>\n",
       "      <th>459</th>\n",
       "      <td>55</td>\n",
       "      <td>1.59</td>\n",
       "    </tr>\n",
       "    <tr>\n",
       "      <th>460</th>\n",
       "      <td>40</td>\n",
       "      <td>11.61</td>\n",
       "    </tr>\n",
       "    <tr>\n",
       "      <th>461</th>\n",
       "      <td>46</td>\n",
       "      <td>4.82</td>\n",
       "    </tr>\n",
       "  </tbody>\n",
       "</table>\n",
       "<p>462 rows × 2 columns</p>\n",
       "</div>"
      ],
      "text/plain": [
       "     age    ldl\n",
       "0     52   5.73\n",
       "1     63   4.41\n",
       "2     46   3.48\n",
       "3     58   6.41\n",
       "4     49   3.50\n",
       "..   ...    ...\n",
       "457   58   5.98\n",
       "458   52   4.41\n",
       "459   55   1.59\n",
       "460   40  11.61\n",
       "461   46   4.82\n",
       "\n",
       "[462 rows x 2 columns]"
      ]
     },
     "execution_count": 4,
     "metadata": {},
     "output_type": "execute_result"
    }
   ],
   "source": [
    "Xa = heart[['age','ldl']]\n",
    "Xa"
   ]
  },
  {
   "cell_type": "code",
   "execution_count": 5,
   "id": "23ab71bb",
   "metadata": {},
   "outputs": [
    {
     "data": {
      "text/plain": [
       "0      1\n",
       "1      1\n",
       "2      0\n",
       "3      1\n",
       "4      1\n",
       "      ..\n",
       "457    0\n",
       "458    1\n",
       "459    0\n",
       "460    0\n",
       "461    1\n",
       "Name: chd, Length: 462, dtype: int64"
      ]
     },
     "execution_count": 5,
     "metadata": {},
     "output_type": "execute_result"
    }
   ],
   "source": [
    "ya = heart.chd\n",
    "ya"
   ]
  },
  {
   "cell_type": "code",
   "execution_count": 6,
   "id": "3068d937",
   "metadata": {},
   "outputs": [],
   "source": [
    "from sklearn.model_selection import train_test_split\n",
    "Xa_train, Xa_test, ya_train, ya_test = train_test_split(Xa, ya, test_size=0.33, random_state=42)"
   ]
  },
  {
   "cell_type": "code",
   "execution_count": 7,
   "id": "e453df4d",
   "metadata": {},
   "outputs": [
    {
     "data": {
      "text/plain": [
       "<matplotlib.legend.Legend at 0x2217fce1240>"
      ]
     },
     "execution_count": 7,
     "metadata": {},
     "output_type": "execute_result"
    },
    {
     "data": {
      "image/png": "[encoded data removed]",
      "text/plain": [
       "<Figure size 432x288 with 1 Axes>"
      ]
     },
     "metadata": {
      "needs_background": "light"
     },
     "output_type": "display_data"
    }
   ],
   "source": [
    "fig, ax = plt.subplots()\n",
    "ax.scatter(heart[heart[\"chd\"]==1][\"age\"],heart[heart[\"chd\"]==1][\"ldl\"],marker='^',label='positive', color='green')\n",
    "ax.scatter(heart[heart[\"chd\"]==0][\"age\"],heart[heart[\"chd\"]==0][\"ldl\"],marker='x',label='negative', color='chocolate')\n",
    "ax.set_xlabel('age', fontsize=15)\n",
    "ax.set_ylabel('ldl', fontsize=15)\n",
    "ax.legend()"
   ]
  },
  {
   "cell_type": "code",
   "execution_count": 8,
   "id": "f5ef34c1",
   "metadata": {},
   "outputs": [],
   "source": [
    "from sklearn.linear_model import LogisticRegression"
   ]
  },
  {
   "cell_type": "code",
   "execution_count": 9,
   "id": "3602145f",
   "metadata": {},
   "outputs": [],
   "source": [
    "logrega = LogisticRegression(solver='lbfgs', max_iter=1000)"
   ]
  },
  {
   "cell_type": "code",
   "execution_count": 10,
   "id": "6ae0b9bb",
   "metadata": {},
   "outputs": [],
   "source": [
    "logrega.fit(Xa_train, ya_train)\n",
    "ya_pred = logrega.predict(Xa_test)"
   ]
  },
  {
   "cell_type": "code",
   "execution_count": 11,
   "id": "a0ce396a",
   "metadata": {},
   "outputs": [
    {
     "data": {
      "text/plain": [
       "array([0, 0, 1, 1, 0, 1, 0, 0, 0, 0, 1, 0, 1, 1, 0, 0, 0, 0, 0, 0, 0, 1,\n",
       "       0, 0, 0, 0, 0, 0, 1, 0, 0, 0, 0, 0, 0, 0, 1, 0, 0, 0, 0, 0, 0, 0,\n",
       "       0, 0, 0, 1, 0, 0, 1, 0, 0, 0, 0, 0, 0, 0, 0, 0, 0, 1, 0, 0, 0, 0,\n",
       "       0, 1, 0, 0, 0, 0, 0, 0, 1, 0, 1, 1, 0, 1, 0, 0, 0, 0, 0, 0, 0, 0,\n",
       "       0, 0, 1, 0, 0, 1, 0, 0, 0, 1, 0, 1, 0, 0, 0, 0, 0, 0, 0, 0, 0, 1,\n",
       "       1, 0, 1, 0, 0, 0, 0, 0, 0, 0, 0, 0, 1, 0, 0, 1, 0, 0, 0, 1, 0, 0,\n",
       "       0, 0, 0, 1, 0, 1, 1, 0, 1, 0, 0, 0, 1, 0, 1, 0, 0, 1, 0, 0, 1],\n",
       "      dtype=int64)"
      ]
     },
     "execution_count": 11,
     "metadata": {},
     "output_type": "execute_result"
    }
   ],
   "source": [
    "ya_pred"
   ]
  },
  {
   "cell_type": "code",
   "execution_count": 12,
   "id": "f22dcd8d",
   "metadata": {},
   "outputs": [
    {
     "data": {
      "text/plain": [
       "<matplotlib.legend.Legend at 0x2217ff98080>"
      ]
     },
     "execution_count": 12,
     "metadata": {},
     "output_type": "execute_result"
    },
    {
     "data": {
      "image/png": "[encoded data removed]",
      "text/plain": [
       "<Figure size 432x288 with 1 Axes>"
      ]
     },
     "metadata": {
      "needs_background": "light"
     },
     "output_type": "display_data"
    }
   ],
   "source": [
    "fig, ax = plt.subplots()\n",
    "ax.scatter(Xa_train[ya_train==1][\"age\"],Xa_train[ya_train==1][\"ldl\"],marker='^',label='positive', color='green')\n",
    "ax.scatter(Xa_train[ya_train==0][\"age\"],Xa_train[ya_train==0][\"ldl\"],marker='x',label='negative', color='chocolate')\n",
    "ax.set_xlabel('age', fontsize=15)\n",
    "ax.set_ylabel('ldl', fontsize=15)\n",
    "ax.legend()"
   ]
  },
  {
   "cell_type": "code",
   "execution_count": 13,
   "id": "dc850707",
   "metadata": {},
   "outputs": [
    {
     "data": {
      "text/plain": [
       "<matplotlib.legend.Legend at 0x2214f01dd30>"
      ]
     },
     "execution_count": 13,
     "metadata": {},
     "output_type": "execute_result"
    },
    {
     "data": {
      "image/png": "[encoded data removed]",
      "text/plain": [
       "<Figure size 432x288 with 1 Axes>"
      ]
     },
     "metadata": {
      "needs_background": "light"
     },
     "output_type": "display_data"
    }
   ],
   "source": [
    "fig, ax = plt.subplots()\n",
    "ax.scatter(Xa_test[ya_test==1][\"age\"],Xa_test[ya_test==1][\"ldl\"],marker='^',label='positive', color='green')\n",
    "ax.scatter(Xa_test[ya_test==0][\"age\"],Xa_test[ya_test==0][\"ldl\"],marker='x',label='negative', color='chocolate')\n",
    "ax.set_xlabel('age', fontsize=15)\n",
    "ax.set_ylabel('ldl', fontsize=15)\n",
    "ax.legend()"
   ]
  },
  {
   "cell_type": "code",
   "execution_count": null,
   "id": "d5ec0daa",
   "metadata": {},
   "outputs": [],
   "source": []
  },
  {
   "cell_type": "code",
   "execution_count": 14,
   "id": "8c7aec4f",
   "metadata": {},
   "outputs": [
    {
     "data": {
      "text/plain": [
       "{'penalty': 'l2',\n",
       " 'dual': False,\n",
       " 'tol': 0.0001,\n",
       " 'C': 1.0,\n",
       " 'fit_intercept': True,\n",
       " 'intercept_scaling': 1,\n",
       " 'class_weight': None,\n",
       " 'random_state': None,\n",
       " 'solver': 'lbfgs',\n",
       " 'max_iter': 1000,\n",
       " 'multi_class': 'auto',\n",
       " 'verbose': 0,\n",
       " 'warm_start': False,\n",
       " 'n_jobs': None,\n",
       " 'l1_ratio': None,\n",
       " 'n_features_in_': 2,\n",
       " 'classes_': array([0, 1], dtype=int64),\n",
       " 'n_iter_': array([22]),\n",
       " 'coef_': array([[0.05234073, 0.21692807]]),\n",
       " 'intercept_': array([-4.09112497])}"
      ]
     },
     "execution_count": 14,
     "metadata": {},
     "output_type": "execute_result"
    }
   ],
   "source": [
    "logrega.__dict__"
   ]
  },
  {
   "cell_type": "code",
   "execution_count": 15,
   "id": "13c8873a",
   "metadata": {},
   "outputs": [
    {
     "data": {
      "text/plain": [
       "array([14.   , 15.275, 16.55 , 17.825, 19.1  , 20.375, 21.65 , 22.925,\n",
       "       24.2  , 25.475, 26.75 , 28.025, 29.3  , 30.575, 31.85 , 33.125,\n",
       "       34.4  , 35.675, 36.95 , 38.225, 39.5  , 40.775, 42.05 , 43.325,\n",
       "       44.6  , 45.875, 47.15 , 48.425, 49.7  , 50.975, 52.25 , 53.525,\n",
       "       54.8  , 56.075, 57.35 , 58.625, 59.9  , 61.175, 62.45 , 63.725,\n",
       "       65.   ])"
      ]
     },
     "execution_count": 15,
     "metadata": {},
     "output_type": "execute_result"
    }
   ],
   "source": [
    "_xa = np.linspace(14.0, 65.0, num=41)\n",
    "_xa"
   ]
  },
  {
   "cell_type": "code",
   "execution_count": 16,
   "id": "6451a8bf",
   "metadata": {
    "scrolled": true
   },
   "outputs": [],
   "source": [
    "_ya = (logrega.__dict__['intercept_'] * (-1.0) - logrega.__dict__['coef_'][0][0] * _xa ) \\\n",
    "    / logrega.__dict__['coef_'][0][1]"
   ]
  },
  {
   "cell_type": "code",
   "execution_count": 17,
   "id": "29132dbf",
   "metadata": {},
   "outputs": [
    {
     "data": {
      "text/plain": [
       "array([15.48142088, 15.17378693, 14.86615299, 14.55851904, 14.2508851 ,\n",
       "       13.94325115, 13.63561721, 13.32798326, 13.02034932, 12.71271537,\n",
       "       12.40508143, 12.09744748, 11.78981354, 11.48217959, 11.17454565,\n",
       "       10.8669117 , 10.55927776, 10.25164381,  9.94400987,  9.63637592,\n",
       "        9.32874198,  9.02110803,  8.71347409,  8.40584014,  8.0982062 ,\n",
       "        7.79057225,  7.48293831,  7.17530436,  6.86767042,  6.56003647,\n",
       "        6.25240253,  5.94476858,  5.63713464,  5.32950069,  5.02186675,\n",
       "        4.71423281,  4.40659886,  4.09896492,  3.79133097,  3.48369703,\n",
       "        3.17606308])"
      ]
     },
     "execution_count": 17,
     "metadata": {},
     "output_type": "execute_result"
    }
   ],
   "source": [
    "_ya"
   ]
  },
  {
   "cell_type": "code",
   "execution_count": 18,
   "id": "adbd7973",
   "metadata": {},
   "outputs": [
    {
     "data": {
      "text/plain": [
       "<matplotlib.legend.Legend at 0x2214f0a84e0>"
      ]
     },
     "execution_count": 18,
     "metadata": {},
     "output_type": "execute_result"
    },
    {
     "data": {
      "image/png": "[encoded data removed]",
      "text/plain": [
       "<Figure size 432x288 with 1 Axes>"
      ]
     },
     "metadata": {
      "needs_background": "light"
     },
     "output_type": "display_data"
    }
   ],
   "source": [
    "fig, ax = plt.subplots()\n",
    "ax.scatter(Xa_test[ya_test==1][\"age\"],Xa_test[ya_test==1][\"ldl\"],marker='^',label='positive', color='green')\n",
    "ax.scatter(Xa_test[ya_test==0][\"age\"],Xa_test[ya_test==0][\"ldl\"],marker='x',label='negative', color='chocolate')\n",
    "plt.plot(_xa, _ya)\n",
    "ax.set_xlabel('age', fontsize=15)\n",
    "ax.set_ylabel('ldl', fontsize=15)\n",
    "ax.legend()"
   ]
  },
  {
   "cell_type": "code",
   "execution_count": 19,
   "id": "aaf37790",
   "metadata": {},
   "outputs": [
    {
     "data": {
      "text/plain": [
       "<matplotlib.legend.Legend at 0x2214f136eb8>"
      ]
     },
     "execution_count": 19,
     "metadata": {},
     "output_type": "execute_result"
    },
    {
     "data": {
      "image/png": "[encoded data removed]",
      "text/plain": [
       "<Figure size 432x288 with 1 Axes>"
      ]
     },
     "metadata": {
      "needs_background": "light"
     },
     "output_type": "display_data"
    }
   ],
   "source": [
    "fig, ax = plt.subplots()\n",
    "ax.scatter(Xa_train[ya_train==1][\"age\"],Xa_train[ya_train==1][\"ldl\"],marker='^',label='positive', color='green')\n",
    "ax.scatter(Xa_train[ya_train==0][\"age\"],Xa_train[ya_train==0][\"ldl\"],marker='x',label='negative', color='chocolate')\n",
    "plt.plot(_xa, _ya)\n",
    "ax.set_xlabel('age', fontsize=15)\n",
    "ax.set_ylabel('ldl', fontsize=15)\n",
    "ax.legend()"
   ]
  },
  {
   "cell_type": "code",
   "execution_count": 20,
   "id": "fc95634f",
   "metadata": {},
   "outputs": [
    {
     "data": {
      "text/plain": [
       "<matplotlib.legend.Legend at 0x2214f1caf98>"
      ]
     },
     "execution_count": 20,
     "metadata": {},
     "output_type": "execute_result"
    },
    {
     "data": {
      "image/png": "[encoded data removed]",
      "text/plain": [
       "<Figure size 432x288 with 1 Axes>"
      ]
     },
     "metadata": {
      "needs_background": "light"
     },
     "output_type": "display_data"
    }
   ],
   "source": [
    "fig, ax = plt.subplots()\n",
    "ax.scatter(Xa_test[ya_pred==1][\"age\"],Xa_test[ya_pred==1][\"ldl\"],marker='^',label='positive', color='green')\n",
    "ax.scatter(Xa_test[ya_pred==0][\"age\"],Xa_test[ya_pred==0][\"ldl\"],marker='x',label='negative', color='chocolate')\n",
    "plt.plot(_xa, _ya)\n",
    "ax.set_xlabel('age', fontsize=15)\n",
    "ax.set_ylabel('ldl', fontsize=15)\n",
    "ax.legend()"
   ]
  },
  {
   "cell_type": "code",
   "execution_count": 22,
   "id": "55820da0",
   "metadata": {},
   "outputs": [
    {
     "name": "stdout",
     "output_type": "stream",
     "text": [
      "[[83 14]\n",
      " [35 21]]\n",
      "0.3202614379084967\n",
      "0.3202614379084967\n"
     ]
    }
   ],
   "source": [
    "perfa = sklearn.metrics.confusion_matrix(ya_test, ya_pred)\n",
    "print(perfa)\n",
    "err_logrega = np.mean(ya_test != ya_pred)\n",
    "print(err_logrega)\n",
    "print(1 - sum(np.diag(perfa)) / float(len(ya_test)))\n",
    "assert(np.round(err_logrega, 5) == \n",
    "       np.round(1 - sum(np.diag(perfa)) / float(len(ya_test)), 5))"
   ]
  },
  {
   "cell_type": "code",
   "execution_count": null,
   "id": "510ca1d7",
   "metadata": {},
   "outputs": [],
   "source": []
  },
  {
   "cell_type": "code",
   "execution_count": null,
   "id": "659193b1",
   "metadata": {},
   "outputs": [],
   "source": []
  },
  {
   "cell_type": "code",
   "execution_count": null,
   "id": "ddf1a7fd",
   "metadata": {},
   "outputs": [],
   "source": []
  },
  {
   "cell_type": "code",
   "execution_count": null,
   "id": "0b2f47e4",
   "metadata": {},
   "outputs": [],
   "source": []
  },
  {
   "cell_type": "code",
   "execution_count": null,
   "id": "ef13327e",
   "metadata": {},
   "outputs": [],
   "source": []
  },
  {
   "cell_type": "code",
   "execution_count": null,
   "id": "ca748cd4",
   "metadata": {},
   "outputs": [],
   "source": []
  },
  {
   "cell_type": "markdown",
   "id": "9ec3e5c7",
   "metadata": {},
   "source": [
    "https://scikit-learn.org/stable/modules/preprocessing.html\n",
    "\n",
    "https://scikit-learn.org/stable/modules/generated/sklearn.preprocessing.StandardScaler.html\n",
    "\n",
    "https://scikit-learn.org/stable/auto_examples/preprocessing/plot_all_scaling.html#sphx-glr-auto-examples-preprocessing-plot-all-scaling-py"
   ]
  },
  {
   "cell_type": "code",
   "execution_count": 23,
   "id": "b57345b6",
   "metadata": {},
   "outputs": [],
   "source": [
    "from sklearn import preprocessing"
   ]
  },
  {
   "cell_type": "code",
   "execution_count": 24,
   "id": "bc9e7e48",
   "metadata": {},
   "outputs": [
    {
     "data": {
      "text/html": [
       "<div>\n",
       "<style scoped>\n",
       "    .dataframe tbody tr th:only-of-type {\n",
       "        vertical-align: middle;\n",
       "    }\n",
       "\n",
       "    .dataframe tbody tr th {\n",
       "        vertical-align: top;\n",
       "    }\n",
       "\n",
       "    .dataframe thead th {\n",
       "        text-align: right;\n",
       "    }\n",
       "</style>\n",
       "<table border=\"1\" class=\"dataframe\">\n",
       "  <thead>\n",
       "    <tr style=\"text-align: right;\">\n",
       "      <th></th>\n",
       "      <th>age</th>\n",
       "      <th>ldl</th>\n",
       "    </tr>\n",
       "  </thead>\n",
       "  <tbody>\n",
       "    <tr>\n",
       "      <th>0</th>\n",
       "      <td>52</td>\n",
       "      <td>5.73</td>\n",
       "    </tr>\n",
       "    <tr>\n",
       "      <th>1</th>\n",
       "      <td>63</td>\n",
       "      <td>4.41</td>\n",
       "    </tr>\n",
       "    <tr>\n",
       "      <th>2</th>\n",
       "      <td>46</td>\n",
       "      <td>3.48</td>\n",
       "    </tr>\n",
       "    <tr>\n",
       "      <th>3</th>\n",
       "      <td>58</td>\n",
       "      <td>6.41</td>\n",
       "    </tr>\n",
       "    <tr>\n",
       "      <th>4</th>\n",
       "      <td>49</td>\n",
       "      <td>3.50</td>\n",
       "    </tr>\n",
       "    <tr>\n",
       "      <th>...</th>\n",
       "      <td>...</td>\n",
       "      <td>...</td>\n",
       "    </tr>\n",
       "    <tr>\n",
       "      <th>457</th>\n",
       "      <td>58</td>\n",
       "      <td>5.98</td>\n",
       "    </tr>\n",
       "    <tr>\n",
       "      <th>458</th>\n",
       "      <td>52</td>\n",
       "      <td>4.41</td>\n",
       "    </tr>\n",
       "    <tr>\n",
       "      <th>459</th>\n",
       "      <td>55</td>\n",
       "      <td>1.59</td>\n",
       "    </tr>\n",
       "    <tr>\n",
       "      <th>460</th>\n",
       "      <td>40</td>\n",
       "      <td>11.61</td>\n",
       "    </tr>\n",
       "    <tr>\n",
       "      <th>461</th>\n",
       "      <td>46</td>\n",
       "      <td>4.82</td>\n",
       "    </tr>\n",
       "  </tbody>\n",
       "</table>\n",
       "<p>462 rows × 2 columns</p>\n",
       "</div>"
      ],
      "text/plain": [
       "     age    ldl\n",
       "0     52   5.73\n",
       "1     63   4.41\n",
       "2     46   3.48\n",
       "3     58   6.41\n",
       "4     49   3.50\n",
       "..   ...    ...\n",
       "457   58   5.98\n",
       "458   52   4.41\n",
       "459   55   1.59\n",
       "460   40  11.61\n",
       "461   46   4.82\n",
       "\n",
       "[462 rows x 2 columns]"
      ]
     },
     "execution_count": 24,
     "metadata": {},
     "output_type": "execute_result"
    }
   ],
   "source": [
    "Xb = heart[['age','ldl']]\n",
    "Xb"
   ]
  },
  {
   "cell_type": "code",
   "execution_count": 25,
   "id": "3651e8a7",
   "metadata": {},
   "outputs": [
    {
     "data": {
      "text/plain": [
       "0      1\n",
       "1      1\n",
       "2      0\n",
       "3      1\n",
       "4      1\n",
       "      ..\n",
       "457    0\n",
       "458    1\n",
       "459    0\n",
       "460    0\n",
       "461    1\n",
       "Name: chd, Length: 462, dtype: int64"
      ]
     },
     "execution_count": 25,
     "metadata": {},
     "output_type": "execute_result"
    }
   ],
   "source": [
    "yb = heart.iloc[:, -1]\n",
    "yb"
   ]
  },
  {
   "cell_type": "code",
   "execution_count": 26,
   "id": "92ae1d3f",
   "metadata": {},
   "outputs": [],
   "source": [
    "scaler = preprocessing.StandardScaler().fit(Xb)"
   ]
  },
  {
   "cell_type": "code",
   "execution_count": 27,
   "id": "bad907a4",
   "metadata": {},
   "outputs": [],
   "source": [
    "Xb_scaled = scaler.transform(Xb)"
   ]
  },
  {
   "cell_type": "code",
   "execution_count": 28,
   "id": "0fd4477f",
   "metadata": {
    "scrolled": true
   },
   "outputs": [
    {
     "data": {
      "text/plain": [
       "{'with_mean': True,\n",
       " 'with_std': True,\n",
       " 'copy': True,\n",
       " 'n_features_in_': 2,\n",
       " 'n_samples_seen_': 462,\n",
       " 'mean_': array([42.81601732,  4.74032468]),\n",
       " 'var_': array([212.95965687,   4.27938193]),\n",
       " 'scale_': array([14.59313732,  2.0686667 ])}"
      ]
     },
     "execution_count": 28,
     "metadata": {},
     "output_type": "execute_result"
    }
   ],
   "source": [
    "scaler.__dict__"
   ]
  },
  {
   "cell_type": "code",
   "execution_count": 29,
   "id": "8d464df9",
   "metadata": {},
   "outputs": [
    {
     "data": {
      "text/plain": [
       "array([[ 6.29335727e-01,  4.78412169e-01],\n",
       "       [ 1.38311470e+00, -1.59679988e-01],\n",
       "       [ 2.18183562e-01, -6.09244918e-01],\n",
       "       [ 1.04048789e+00,  8.07126311e-01],\n",
       "       [ 4.23759645e-01, -5.99576855e-01],\n",
       "       [ 1.49658201e-01,  8.36130500e-01],\n",
       "       [-3.30019324e-01, -6.57585233e-01],\n",
       "       [ 1.04048789e+00, -7.26674215e-02],\n",
       "       [-9.46747571e-01, -4.40053815e-01],\n",
       "       [ 6.97861088e-01,  5.12250390e-01],\n",
       "       [ 1.17753861e+00, -8.65448587e-01],\n",
       "       [-1.92968603e-01, -1.45177894e-01],\n",
       "       [-1.76905190e+00, -1.38268996e+00],\n",
       "       [-1.90610262e+00, -1.38752399e+00],\n",
       "       [ 6.97861088e-01, -1.18449467e+00],\n",
       "       [ 2.18183562e-01, -1.11198419e+00],\n",
       "       [ 4.23759645e-01,  5.11908241e+00],\n",
       "       [ 6.97861088e-01,  1.71592423e+00],\n",
       "       [ 1.31458933e+00,  1.31469962e+00],\n",
       "       [ 1.10901325e+00,  7.20113744e-01],\n",
       "       [-1.56347582e+00, -1.45036640e+00],\n",
       "       [ 8.11328406e-02, -9.13788902e-01],\n",
       "       [ 4.92285005e-01,  7.92624216e-01],\n",
       "       [ 1.04048789e+00, -4.49721878e-01],\n",
       "       [ 4.92285005e-01, -1.93518209e-01],\n",
       "       [-5.59178810e-02,  3.71237924e+00],\n",
       "       [ 3.55234284e-01,  2.37335252e+00],\n",
       "       [ 1.24606397e+00,  2.41544626e-01],\n",
       "       [ 9.03437170e-01,  3.91399602e-01],\n",
       "       [ 1.38311470e+00,  9.08640972e-01],\n",
       "       [ 1.49658201e-01, -3.82045437e-01],\n",
       "       [ 2.18183562e-01,  7.68454059e-01],\n",
       "       [ 1.10901325e+00,  4.05901697e-01],\n",
       "       [-1.24443242e-01,  8.65134689e-01],\n",
       "       [ 3.55234284e-01,  1.14067448e+00],\n",
       "       [-1.01527293e+00, -1.45177894e-01],\n",
       "       [-7.41171489e-01,  1.24702318e+00],\n",
       "       [ 2.18183562e-01, -9.20035475e-02],\n",
       "       [-9.46747571e-01, -9.28290996e-01],\n",
       "       [ 1.04048789e+00,  5.17084421e-01],\n",
       "       [-1.24443242e-01,  5.12250390e-01],\n",
       "       [-8.78222210e-01, -6.57585233e-01],\n",
       "       [-1.90610262e+00, -1.77424651e+00],\n",
       "       [ 5.60810366e-01, -9.76631311e-01],\n",
       "       [-1.76905190e+00, -8.46112461e-01],\n",
       "       [ 3.55234284e-01, -6.91423453e-01],\n",
       "       [ 1.04048789e+00,  1.84160905e+00],\n",
       "       [-6.72646128e-01,  1.36303993e+00],\n",
       "       [-1.83757726e+00, -1.35368577e+00],\n",
       "       [-8.78222210e-01, -4.15883658e-01],\n",
       "       [-5.59178810e-02,  4.88080232e-01],\n",
       "       [ 4.23759645e-01, -5.22232351e-01],\n",
       "       [-5.59178810e-02,  2.11714885e+00],\n",
       "       [-8.09696850e-01, -1.54221300e+00],\n",
       "       [ 6.97861088e-01, -1.41169415e+00],\n",
       "       [ 3.55234284e-01,  1.57090329e+00],\n",
       "       [-1.01527293e+00, -8.46112461e-01],\n",
       "       [-3.30019324e-01, -8.60614556e-01],\n",
       "       [-1.70052654e+00, -2.56360618e-01],\n",
       "       [ 1.24606397e+00,  2.65714783e-01],\n",
       "       [-6.72646128e-01, -1.42136221e+00],\n",
       "       [ 8.11328406e-02,  1.69034153e-01],\n",
       "       [ 9.71962531e-01, -1.46590436e-02],\n",
       "       [-3.30019324e-01, -2.12854335e-01],\n",
       "       [-1.76905190e+00, -1.41169415e+00],\n",
       "       [ 7.66386449e-01, -1.23283498e+00],\n",
       "       [-8.78222210e-01, -7.25261674e-01],\n",
       "       [-1.08379829e+00, -1.38268996e+00],\n",
       "       [-6.72646128e-01,  1.22285302e+00],\n",
       "       [-7.41171489e-01, -6.62419264e-01],\n",
       "       [-1.90610262e+00, -5.17398319e-01],\n",
       "       [-1.15232365e+00, -1.00563550e+00],\n",
       "       [-4.67070046e-01, -6.62419264e-01],\n",
       "       [-1.56347582e+00,  1.40029964e-01],\n",
       "       [-6.04120767e-01,  6.91109555e-01],\n",
       "       [-1.92968603e-01, -2.99866902e-01],\n",
       "       [ 8.34911809e-01,  5.60590705e-01],\n",
       "       [ 8.34911809e-01,  3.96233634e-01],\n",
       "       [ 9.03437170e-01,  9.37645161e-01],\n",
       "       [-2.61493963e-01,  5.65424736e-01],\n",
       "       [ 1.49658201e-01,  1.11167030e+00],\n",
       "       [ 6.97861088e-01,  9.16896494e-02],\n",
       "       [ 8.34911809e-01,  6.52437303e-01],\n",
       "       [ 9.71962531e-01, -4.59389941e-01],\n",
       "       [-1.76905190e+00, -1.11681822e+00],\n",
       "       [ 1.49658201e-01, -6.96257485e-01],\n",
       "       [ 4.23759645e-01, -1.21007736e-01],\n",
       "       [-3.30019324e-01,  1.64200122e-01],\n",
       "       [-1.24443242e-01,  4.34905886e-01],\n",
       "       [ 8.34911809e-01, -3.38539154e-01],\n",
       "       [-1.49495046e+00, -9.23456965e-01],\n",
       "       [ 1.45164006e+00, -3.48207217e-01],\n",
       "       [-9.46747571e-01, -1.13132032e+00],\n",
       "       [ 4.23759645e-01, -3.82045437e-01],\n",
       "       [ 9.03437170e-01,  7.63620027e-01],\n",
       "       [ 1.31458933e+00, -1.79016114e-01],\n",
       "       [-9.46747571e-01,  7.71875549e-02],\n",
       "       [-2.61493963e-01,  1.25527870e-01],\n",
       "       [ 5.60810366e-01,  3.18063578e+00],\n",
       "       [-2.61493963e-01, -4.01381563e-01],\n",
       "       [ 4.92285005e-01,  1.50322685e+00],\n",
       "       [-1.08379829e+00, -3.43373185e-01],\n",
       "       [ 2.18183562e-01, -1.93518209e-01],\n",
       "       [-8.09696850e-01, -6.78333900e-02],\n",
       "       [-9.46747571e-01,  3.09221067e-01],\n",
       "       [ 1.45164006e+00, -8.55780524e-01],\n",
       "       [ 1.24606397e+00, -1.98352240e-01],\n",
       "       [ 7.66386449e-01,  3.67229445e-01],\n",
       "       [-5.59178810e-02,  4.92914264e-01],\n",
       "       [-1.70052654e+00, -8.21942304e-01],\n",
       "       [-1.83757726e+00,  1.58057135e+00],\n",
       "       [ 7.66386449e-01,  1.83194099e+00],\n",
       "       [-3.98544685e-01, -5.22232351e-01],\n",
       "       [ 1.24606397e+00,  1.79810277e+00],\n",
       "       [ 1.10901325e+00, -7.59099894e-01],\n",
       "       [ 3.55234284e-01,  2.82291745e+00],\n",
       "       [-7.41171489e-01, -7.26674215e-02],\n",
       "       [-5.59178810e-02,  5.65424736e-01],\n",
       "       [ 1.24606397e+00,  1.08750014e+00],\n",
       "       [-1.08379829e+00, -3.96547532e-01],\n",
       "       [ 1.17753861e+00,  6.71773429e-01],\n",
       "       [-1.01527293e+00,  7.29781807e-01],\n",
       "       [-6.72646128e-01,  1.30361901e-01],\n",
       "       [ 9.03437170e-01, -9.13788902e-01],\n",
       "       [ 1.49658201e-01, -3.77211406e-01],\n",
       "       [ 1.10901325e+00,  3.10812530e+00],\n",
       "       [-1.01527293e+00, -3.62709311e-01],\n",
       "       [-3.30019324e-01, -9.57295185e-01],\n",
       "       [ 1.17753861e+00,  1.29052946e+00],\n",
       "       [ 1.45164006e+00, -3.38539154e-01],\n",
       "       [ 1.31458933e+00,  1.44863996e-01],\n",
       "       [ 1.04048789e+00, -8.02606178e-01],\n",
       "       [-8.78222210e-01, -4.88394130e-01],\n",
       "       [ 7.66386449e-01,  3.76897508e-01],\n",
       "       [-1.92968603e-01, -6.96257485e-01],\n",
       "       [ 6.29335727e-01,  2.08331063e+00],\n",
       "       [-7.41171489e-01, -5.07730256e-01],\n",
       "       [-1.01527293e+00, -5.02896225e-01],\n",
       "       [-1.56347582e+00, -5.12564288e-01],\n",
       "       [ 7.66386449e-01, -3.82045437e-01],\n",
       "       [ 7.66386449e-01,  5.60590705e-01],\n",
       "       [-1.22084901e+00,  7.23535234e-02],\n",
       "       [-3.30019324e-01,  3.81731539e-01],\n",
       "       [ 1.04048789e+00,  5.41254579e-01],\n",
       "       [-1.92968603e-01,  6.76607460e-01],\n",
       "       [-1.92968603e-01, -4.35219784e-01],\n",
       "       [-8.09696850e-01, -7.63933926e-01],\n",
       "       [ 1.26074798e-02,  7.92624216e-01],\n",
       "       [-6.72646128e-01,  6.37935209e-01],\n",
       "       [ 1.24606397e+00,  1.49698027e-01],\n",
       "       [ 8.34911809e-01,  8.45798563e-01],\n",
       "       [ 6.29335727e-01, -5.60904603e-01],\n",
       "       [-1.28937438e+00, -2.66028681e-01],\n",
       "       [-1.56347582e+00, -9.66963248e-01],\n",
       "       [-1.24443242e-01,  2.88472399e-02],\n",
       "       [ 8.34911809e-01, -7.83270052e-01],\n",
       "       [-1.76905190e+00, -9.33125028e-01],\n",
       "       [ 6.97861088e-01,  1.88370279e-01],\n",
       "       [-3.30019324e-01, -8.17108272e-01],\n",
       "       [ 1.26074798e-02,  3.43059287e-01],\n",
       "       [-8.09696850e-01,  7.15279712e-01],\n",
       "       [ 1.31458933e+00, -7.83270052e-01],\n",
       "       [-1.83757726e+00, -9.95967437e-01],\n",
       "       [-1.49495046e+00, -4.35219784e-01],\n",
       "       [-1.83757726e+00, -8.02606178e-01],\n",
       "       [ 4.23759645e-01, -7.44597800e-01],\n",
       "       [ 8.34911809e-01,  1.20693838e-01],\n",
       "       [ 1.26074798e-02,  1.63374570e+00],\n",
       "       [-1.22084901e+00, -1.69348051e-01],\n",
       "       [ 3.55234284e-01,  1.55156716e+00],\n",
       "       [-1.24443242e-01,  1.03915982e+00],\n",
       "       [-7.41171489e-01, -1.04430775e+00],\n",
       "       [ 2.86708923e-01,  2.40132084e-02],\n",
       "       [ 1.24606397e+00, -1.12165226e+00],\n",
       "       [ 1.31458933e+00, -1.07814597e+00],\n",
       "       [ 1.24606397e+00,  2.41544626e-01],\n",
       "       [-3.98544685e-01, -9.86299374e-01],\n",
       "       [-1.76905190e+00, -1.12165226e+00],\n",
       "       [-1.28937438e+00,  1.68208601e+00],\n",
       "       [ 9.03437170e-01,  8.20215864e-02],\n",
       "       [ 9.03437170e-01, -2.08020303e-01],\n",
       "       [ 5.60810366e-01,  6.37935209e-01],\n",
       "       [ 1.17753861e+00, -3.39951696e-02],\n",
       "       [-2.61493963e-01, -1.30051142e+00],\n",
       "       [ 3.55234284e-01,  9.61815319e-01],\n",
       "       [-6.72646128e-01, -7.54265863e-01],\n",
       "       [ 1.38311470e+00,  8.02292279e-01],\n",
       "       [-2.61493963e-01,  2.07706405e-01],\n",
       "       [ 1.38311470e+00,  8.89304846e-01],\n",
       "       [ 1.45164006e+00,  5.99262957e-01],\n",
       "       [-1.92968603e-01, -4.93228162e-01],\n",
       "       [ 4.23759645e-01,  7.71875549e-02],\n",
       "       [-2.61493963e-01, -6.43083138e-01],\n",
       "       [-1.35789974e+00,  7.23535234e-02],\n",
       "       [-1.70052654e+00, -9.42793091e-01],\n",
       "       [-1.49495046e+00, -1.34401771e+00],\n",
       "       [-1.76905190e+00, -7.97772146e-01],\n",
       "       [-5.59178810e-02, -5.36734445e-01],\n",
       "       [ 7.66386449e-01,  2.15098707e+00],\n",
       "       [-1.08379829e+00, -3.88292010e-02],\n",
       "       [-1.35789974e+00, -1.11198419e+00],\n",
       "       [-8.09696850e-01, -1.79016114e-01],\n",
       "       [-6.72646128e-01,  3.72063476e-01],\n",
       "       [ 1.45164006e+00, -3.72377374e-01],\n",
       "       [ 1.04048789e+00, -5.56070571e-01],\n",
       "       [-1.92968603e-01, -4.84972640e-02],\n",
       "       [-1.70052654e+00,  1.69034153e-01],\n",
       "       [ 1.17753861e+00,  9.23143067e-01],\n",
       "       [ 1.10901325e+00,  5.60590705e-01],\n",
       "       [ 1.17753861e+00, -2.32190461e-01],\n",
       "       [ 1.17753861e+00,  1.59023941e+00],\n",
       "       [-1.92968603e-01,  5.50922642e-01],\n",
       "       [ 8.11328406e-02, -8.17108272e-01],\n",
       "       [ 6.97861088e-01, -1.81775279e+00],\n",
       "       [-1.70052654e+00, -1.13132032e+00],\n",
       "       [ 1.31458933e+00,  1.60957554e+00],\n",
       "       [ 1.49658201e-01, -2.46692555e-01],\n",
       "       [-1.15232365e+00,  6.86275523e-01],\n",
       "       [-1.22084901e+00,  1.11025775e-01],\n",
       "       [ 9.71962531e-01,  1.29052946e+00],\n",
       "       [-1.83757726e+00, -7.73601989e-01],\n",
       "       [ 2.18183562e-01,  1.06816401e+00],\n",
       "       [ 1.17753861e+00,  1.63857973e+00],\n",
       "       [ 1.49658201e-01,  1.28086140e+00],\n",
       "       [ 9.03437170e-01, -5.89908792e-01],\n",
       "       [-5.59178810e-02,  5.78514289e-02],\n",
       "       [-7.41171489e-01,  1.17934674e+00],\n",
       "       [ 6.29335727e-01, -4.59389941e-01],\n",
       "       [ 1.45164006e+00,  1.78702216e-01],\n",
       "       [ 4.92285005e-01,  3.52727350e-01],\n",
       "       [ 1.04048789e+00, -6.67253296e-01],\n",
       "       [ 1.31458933e+00,  1.17934674e+00],\n",
       "       [ 1.04048789e+00,  3.47893319e-01],\n",
       "       [-8.78222210e-01, -4.73892036e-01],\n",
       "       [-9.46747571e-01, -7.25261674e-01],\n",
       "       [ 5.60810366e-01, -2.95032870e-01],\n",
       "       [ 1.24606397e+00, -4.64223973e-01],\n",
       "       [ 9.71962531e-01,  7.23535234e-02],\n",
       "       [-1.08379829e+00,  3.62395413e-01],\n",
       "       [-1.83757726e+00, -7.30095705e-01],\n",
       "       [ 1.49658201e-01, -5.60904603e-01],\n",
       "       [ 2.86708923e-01, -1.79016114e-01],\n",
       "       [-1.24443242e-01,  1.49698027e-01],\n",
       "       [ 8.34911809e-01,  2.79874729e+00],\n",
       "       [ 1.17753861e+00,  1.28569543e+00],\n",
       "       [ 9.71962531e-01, -1.02013759e+00],\n",
       "       [ 9.03437170e-01, -4.01381563e-01],\n",
       "       [ 1.17753861e+00, -2.70862713e-01],\n",
       "       [ 1.45164006e+00,  1.06332998e+00],\n",
       "       [ 1.04048789e+00,  2.27042531e-01],\n",
       "       [ 3.55234284e-01,  1.63374570e+00],\n",
       "       [-1.76905190e+00,  7.73288090e-01],\n",
       "       [ 1.38311470e+00, -4.44887847e-01],\n",
       "       [-5.59178810e-02,  1.19384883e+00],\n",
       "       [ 2.18183562e-01, -4.36632325e-02],\n",
       "       [ 7.66386449e-01,  7.34615838e-01],\n",
       "       [-3.98544685e-01,  1.10683626e+00],\n",
       "       [ 4.23759645e-01, -5.65738634e-01],\n",
       "       [ 1.04048789e+00,  1.88370279e-01],\n",
       "       [ 8.11328406e-02,  1.15517658e+00],\n",
       "       [-1.76905190e+00, -1.13615435e+00],\n",
       "       [-1.56347582e+00, -9.91133406e-01],\n",
       "       [ 1.24606397e+00, -9.18622933e-01],\n",
       "       [-5.35595407e-01, -2.66028681e-01],\n",
       "       [ 6.29335727e-01, -5.33312955e-02],\n",
       "       [-1.70052654e+00, -1.34401771e+00],\n",
       "       [-1.76905190e+00, -2.80530776e-01],\n",
       "       [ 9.71962531e-01,  1.06191744e-01],\n",
       "       [-1.83757726e+00, -3.82045437e-01],\n",
       "       [ 1.49658201e-01,  1.49839281e+00],\n",
       "       [ 8.34911809e-01, -2.80530776e-01],\n",
       "       [-1.24443242e-01, -2.80530776e-01],\n",
       "       [-1.28937438e+00, -7.63933926e-01],\n",
       "       [ 1.26074798e-02,  4.10735728e-01],\n",
       "       [ 8.34911809e-01, -1.09748210e+00],\n",
       "       [ 1.38311470e+00, -2.43271066e-02],\n",
       "       [ 1.45164006e+00,  8.84470815e-01],\n",
       "       [ 1.26074798e-02,  1.68208601e+00],\n",
       "       [-1.83757726e+00, -1.02013759e+00],\n",
       "       [-1.83757726e+00, -7.15593611e-01],\n",
       "       [-1.01527293e+00, -1.79016114e-01],\n",
       "       [-5.59178810e-02, -5.94742823e-01],\n",
       "       [ 4.92285005e-01, -2.75696744e-01],\n",
       "       [-1.08379829e+00, -7.59099894e-01],\n",
       "       [-1.24443242e-01,  1.15859807e-01],\n",
       "       [-1.76905190e+00, -3.82045437e-01],\n",
       "       [-1.63200118e+00, -5.07730256e-01],\n",
       "       [-1.76905190e+00, -9.37959059e-01],\n",
       "       [-1.83757726e+00, -6.29993585e-02],\n",
       "       [-3.30019324e-01,  2.60880752e-01],\n",
       "       [-1.83757726e+00, -1.46486849e+00],\n",
       "       [-1.83757726e+00,  1.21801899e+00],\n",
       "       [ 8.11328406e-02, -2.90198839e-01],\n",
       "       [ 9.03437170e-01,  1.19868286e+00],\n",
       "       [-6.04120767e-01,  4.30071854e-01],\n",
       "       [-5.59178810e-02, -2.66028681e-01],\n",
       "       [-1.76905190e+00, -7.05925548e-01],\n",
       "       [-1.76905190e+00, -1.18932870e+00],\n",
       "       [ 2.18183562e-01, -1.11339674e-01],\n",
       "       [ 6.97861088e-01, -3.57875280e-01],\n",
       "       [ 1.49658201e-01, -3.77211406e-01],\n",
       "       [-7.41171489e-01,  8.07126311e-01],\n",
       "       [ 6.97861088e-01, -7.83270052e-01],\n",
       "       [ 1.10901325e+00,  1.77393261e+00],\n",
       "       [-1.08379829e+00, -9.47627122e-01],\n",
       "       [ 4.23759645e-01, -7.34929737e-01],\n",
       "       [ 1.49658201e-01,  1.44863996e-01],\n",
       "       [ 1.10901325e+00, -5.65738634e-01],\n",
       "       [-3.98544685e-01, -1.05880985e+00],\n",
       "       [-6.04120767e-01, -1.11198419e+00],\n",
       "       [ 1.10901325e+00,  2.51212689e-01],\n",
       "       [ 2.18183562e-01, -1.07814597e+00],\n",
       "       [ 1.10901325e+00, -1.10231613e+00],\n",
       "       [ 8.11328406e-02, -7.10759579e-01],\n",
       "       [ 4.92285005e-01,  6.23433114e-01],\n",
       "       [ 1.10901325e+00, -1.46003446e+00],\n",
       "       [-3.30019324e-01, -1.18932870e+00],\n",
       "       [-1.15232365e+00, -3.67543343e-01],\n",
       "       [ 1.10901325e+00,  1.64200122e-01],\n",
       "       [ 5.60810366e-01, -2.41858524e-01],\n",
       "       [ 1.10901325e+00,  3.36812714e-02],\n",
       "       [-3.30019324e-01, -2.08020303e-01],\n",
       "       [ 1.24606397e+00, -8.31610367e-01],\n",
       "       [ 1.45164006e+00, -4.06215595e-01],\n",
       "       [ 8.34911809e-01, -5.85074760e-01],\n",
       "       [-4.67070046e-01, -6.14078949e-01],\n",
       "       [ 1.31458933e+00,  9.13475004e-01],\n",
       "       [-1.63200118e+00, -8.50946493e-01],\n",
       "       [-2.61493963e-01, -7.44597800e-01],\n",
       "       [ 8.34911809e-01, -4.84972640e-02],\n",
       "       [-1.76905190e+00, -1.16515854e+00],\n",
       "       [ 1.49658201e-01, -1.31984755e+00],\n",
       "       [ 5.60810366e-01,  1.81260486e+00],\n",
       "       [ 1.10901325e+00, -2.51526587e-01],\n",
       "       [ 1.10901325e+00,  7.97458248e-01],\n",
       "       [ 1.26074798e-02, -9.20035475e-02],\n",
       "       [ 1.04048789e+00, -5.70572666e-01],\n",
       "       [ 1.10901325e+00,  1.20835093e+00],\n",
       "       [-1.08379829e+00,  2.80216878e-01],\n",
       "       [-8.78222210e-01, -8.70282618e-01],\n",
       "       [-1.92968603e-01,  2.06397450e+00],\n",
       "       [ 6.29335727e-01,  1.10200223e+00],\n",
       "       [ 6.97861088e-01,  4.78412169e-01],\n",
       "       [-8.09696850e-01, -1.38752399e+00],\n",
       "       [-3.98544685e-01, -7.73601989e-01],\n",
       "       [-1.15232365e+00,  3.45617557e+00],\n",
       "       [ 6.97861088e-01,  4.67708242e-03],\n",
       "       [ 1.24606397e+00, -1.15065645e+00],\n",
       "       [ 1.26074798e-02,  4.10735728e-01],\n",
       "       [ 1.17753861e+00, -2.41858524e-01],\n",
       "       [ 4.23759645e-01, -9.86299374e-01],\n",
       "       [-4.67070046e-01, -1.04430775e+00],\n",
       "       [ 1.04048789e+00,  1.71109020e+00],\n",
       "       [ 1.24606397e+00, -3.53041248e-01],\n",
       "       [ 7.66386449e-01,  2.60880752e-01],\n",
       "       [ 1.04048789e+00, -7.54265863e-01],\n",
       "       [-1.28937438e+00, -1.11681822e+00],\n",
       "       [ 4.23759645e-01,  6.47603271e-01],\n",
       "       [ 4.92285005e-01,  1.98038342e-01],\n",
       "       [-7.41171489e-01, -5.60904603e-01],\n",
       "       [ 1.31458933e+00,  5.89594894e-01],\n",
       "       [-6.04120767e-01, -5.17398319e-01],\n",
       "       [ 3.55234284e-01, -8.84784713e-01],\n",
       "       [ 1.17753861e+00, -1.12165226e+00],\n",
       "       [ 6.29335727e-01,  2.94718972e-01],\n",
       "       [-1.01527293e+00, -1.79016114e-01],\n",
       "       [-1.28937438e+00,  1.20693838e-01],\n",
       "       [-8.78222210e-01, -6.47917170e-01],\n",
       "       [-3.30019324e-01,  6.26854604e-02],\n",
       "       [-5.59178810e-02,  5.94428925e-01],\n",
       "       [ 1.45164006e+00,  1.45488653e+00],\n",
       "       [-1.24443242e-01,  5.94428925e-01],\n",
       "       [-7.41171489e-01,  3.23723161e-01],\n",
       "       [ 1.45164006e+00,  7.71875549e-02],\n",
       "       [-9.46747571e-01, -1.13132032e+00],\n",
       "       [ 1.49658201e-01,  2.65714783e-01],\n",
       "       [-8.09696850e-01, -2.80530776e-01],\n",
       "       [ 6.97861088e-01, -2.43271066e-02],\n",
       "       [-3.30019324e-01,  1.20693838e-01],\n",
       "       [ 1.45164006e+00, -2.91611381e-02],\n",
       "       [ 6.29335727e-01, -9.81465343e-01],\n",
       "       [ 8.11328406e-02, -1.54845957e-01],\n",
       "       [-3.30019324e-01,  3.22414206e+00],\n",
       "       [-8.09696850e-01,  9.65236809e-02],\n",
       "       [ 8.11328406e-02,  6.23433114e-01],\n",
       "       [ 7.66386449e-01,  9.76317413e-01],\n",
       "       [ 1.10901325e+00, -2.75696744e-01],\n",
       "       [ 6.97861088e-01,  2.77941116e+00],\n",
       "       [-1.15232365e+00,  8.68556179e-02],\n",
       "       [ 6.97861088e-01, -7.59099894e-01],\n",
       "       [-2.61493963e-01, -5.36734445e-01],\n",
       "       [ 4.92285005e-01,  4.30071854e-01],\n",
       "       [ 1.24606397e+00,  4.67708242e-03],\n",
       "       [ 1.45164006e+00, -5.65738634e-01],\n",
       "       [ 3.55234284e-01, -9.71797280e-01],\n",
       "       [-1.08379829e+00, -5.80240729e-01],\n",
       "       [ 1.31458933e+00,  1.41621428e+00],\n",
       "       [ 3.55234284e-01, -9.52461154e-01],\n",
       "       [ 8.34911809e-01,  6.37935209e-01],\n",
       "       [ 2.86708923e-01, -5.65738634e-01],\n",
       "       [ 4.23759645e-01,  1.43451454e-02],\n",
       "       [ 4.23759645e-01, -2.75696744e-01],\n",
       "       [ 1.31458933e+00, -4.59389941e-01],\n",
       "       [ 1.04048789e+00,  2.17374468e-01],\n",
       "       [ 9.71962531e-01,  2.63439022e+00],\n",
       "       [ 5.60810366e-01,  4.49407980e-01],\n",
       "       [ 1.24606397e+00, -5.02896225e-01],\n",
       "       [ 1.17753861e+00, -1.50011925e-01],\n",
       "       [-1.92968603e-01, -5.60904603e-01],\n",
       "       [-1.83757726e+00, -7.92938115e-01],\n",
       "       [ 1.31458933e+00,  2.43619493e+00],\n",
       "       [ 1.17753861e+00,  4.30071854e-01],\n",
       "       [ 8.34911809e-01,  4.55350072e+00],\n",
       "       [ 1.38311470e+00, -1.00563550e+00],\n",
       "       [ 2.18183562e-01,  4.25237823e-01],\n",
       "       [-2.61493963e-01, -5.80240729e-01],\n",
       "       [ 1.17753861e+00,  3.96233634e-01],\n",
       "       [ 1.49658201e-01, -7.73601989e-01],\n",
       "       [ 3.55234284e-01,  2.40132084e-02],\n",
       "       [-1.24443242e-01, -9.20035475e-02],\n",
       "       [ 1.26074798e-02, -5.94742823e-01],\n",
       "       [ 1.38311470e+00, -4.25551721e-01],\n",
       "       [ 8.34911809e-01,  1.73868185e-01],\n",
       "       [ 1.24606397e+00, -3.67543343e-01],\n",
       "       [-5.59178810e-02, -7.01091516e-01],\n",
       "       [-6.72646128e-01, -6.96257485e-01],\n",
       "       [-6.72646128e-01,  1.39687815e+00],\n",
       "       [ 4.23759645e-01, -1.18932870e+00],\n",
       "       [-6.04120767e-01, -5.27066382e-01],\n",
       "       [-7.41171489e-01, -5.65738634e-01],\n",
       "       [-1.83757726e+00, -4.11049626e-01],\n",
       "       [-1.83757726e+00, -1.60022137e+00],\n",
       "       [-1.83757726e+00, -3.57875280e-01],\n",
       "       [-1.70052654e+00, -1.10231613e+00],\n",
       "       [-1.83757726e+00, -5.75406697e-01],\n",
       "       [-1.83757726e+00, -1.43586430e+00],\n",
       "       [-1.76905190e+00, -1.39235802e+00],\n",
       "       [-1.83757726e+00, -2.85364807e-01],\n",
       "       [-8.09696850e-01, -6.96257485e-01],\n",
       "       [-1.92968603e-01, -1.13132032e+00],\n",
       "       [-7.41171489e-01,  1.16001061e+00],\n",
       "       [-1.83757726e+00, -3.67543343e-01],\n",
       "       [ 6.29335727e-01,  1.96245984e+00],\n",
       "       [-3.98544685e-01,  4.67708242e-03],\n",
       "       [-1.08379829e+00, -5.07730256e-01],\n",
       "       [-1.22084901e+00, -1.06847791e+00],\n",
       "       [-6.04120767e-01, -2.03186272e-01],\n",
       "       [-1.76905190e+00, -1.38268996e+00],\n",
       "       [-1.56347582e+00, -4.83560099e-01],\n",
       "       [ 3.55234284e-01,  1.40029964e-01],\n",
       "       [-1.28937438e+00, -6.91423453e-01],\n",
       "       [-1.70052654e+00, -9.52461154e-01],\n",
       "       [-5.59178810e-02, -7.44597800e-01],\n",
       "       [ 5.60810366e-01,  1.19868286e+00],\n",
       "       [-2.61493963e-01,  3.85153029e-02],\n",
       "       [-1.08379829e+00, -9.23456965e-01],\n",
       "       [ 9.71962531e-01, -3.04700933e-01],\n",
       "       [ 1.04048789e+00,  5.99262957e-01],\n",
       "       [ 6.29335727e-01, -1.59679988e-01],\n",
       "       [ 8.34911809e-01, -1.52287687e+00],\n",
       "       [-1.92968603e-01,  3.32082269e+00],\n",
       "       [ 2.18183562e-01,  3.85153029e-02]])"
      ]
     },
     "execution_count": 29,
     "metadata": {},
     "output_type": "execute_result"
    }
   ],
   "source": [
    "Xb_scaled"
   ]
  },
  {
   "cell_type": "code",
   "execution_count": 30,
   "id": "fec24eef",
   "metadata": {},
   "outputs": [
    {
     "data": {
      "text/plain": [
       "array([-9.61232056e-18,  3.42198612e-16])"
      ]
     },
     "execution_count": 30,
     "metadata": {},
     "output_type": "execute_result"
    }
   ],
   "source": [
    "Xb_scaled.mean(axis=0)"
   ]
  },
  {
   "cell_type": "code",
   "execution_count": 31,
   "id": "31c8434f",
   "metadata": {},
   "outputs": [
    {
     "data": {
      "text/plain": [
       "array([1., 1.])"
      ]
     },
     "execution_count": 31,
     "metadata": {},
     "output_type": "execute_result"
    }
   ],
   "source": [
    "Xb_scaled.std(axis=0)"
   ]
  },
  {
   "cell_type": "code",
   "execution_count": 32,
   "id": "66d8b7e3",
   "metadata": {},
   "outputs": [
    {
     "name": "stdout",
     "output_type": "stream",
     "text": [
      "[0 0 1 1 0 1 0 0 0 0 1 0 1 1 0 0 0 0 0 0 0 1 0 0 0 0 0 0 1 0 0 0 0 0 0 0 1\n",
      " 0 0 0 0 0 0 0 0 0 0 1 0 0 1 0 0 0 0 0 0 0 0 0 0 1 0 0 0 0 0 1 0 0 0 0 0 0\n",
      " 1 0 1 1 0 1 0 0 0 0 0 0 0 0 0 0 1 0 0 1 0 0 0 1 0 1 0 0 0 0 0 0 0 0 0 1 1\n",
      " 0 1 0 0 0 0 0 0 0 0 0 1 0 0 1 0 0 0 1 0 0 0 0 0 1 0 1 1 0 1 0 0 0 1 0 1 0\n",
      " 0 1 0 0 1]\n",
      "{'penalty': 'l2', 'dual': False, 'tol': 0.0001, 'C': 1.0, 'fit_intercept': True, 'intercept_scaling': 1, 'class_weight': None, 'random_state': None, 'solver': 'lbfgs', 'max_iter': 1000, 'multi_class': 'auto', 'verbose': 0, 'warm_start': False, 'n_jobs': None, 'l1_ratio': None, 'n_features_in_': 2, 'classes_': array([0, 1], dtype=int64), 'n_iter_': array([6]), 'coef_': array([[0.74748756, 0.44447108]]), 'intercept_': array([-0.81664493])}\n",
      "[[83 14]\n",
      " [35 21]]\n",
      "0.3202614379084967\n",
      "0.3202614379084967\n"
     ]
    }
   ],
   "source": [
    "Xb_train, Xb_test, yb_train, yb_test = train_test_split(Xb_scaled, yb, test_size=0.33, random_state=42)\n",
    "logregb = LogisticRegression(solver='lbfgs', max_iter=1000)\n",
    "logregb.fit(Xb_train, yb_train)\n",
    "yb_pred = logregb.predict(Xb_test)\n",
    "print(yb_pred)\n",
    "print(logregb.__dict__)\n",
    "perfb = sklearn.metrics.confusion_matrix(yb_test, yb_pred)\n",
    "print(perfb)\n",
    "err_logregb = np.mean(yb_test != yb_pred)\n",
    "print(err_logregb)\n",
    "print(1 - sum(np.diag(perfb)) / float(len(yb_test)))\n",
    "assert(np.round(err_logregb, 5) == \n",
    "       np.round(1 - sum(np.diag(perfb)) / float(len(yb_test)), 5))"
   ]
  },
  {
   "cell_type": "code",
   "execution_count": 36,
   "id": "356663d3",
   "metadata": {},
   "outputs": [
    {
     "name": "stdout",
     "output_type": "stream",
     "text": [
      "[0.05234073 0.21692807]\n",
      "[0.74748756 0.44447108]\n"
     ]
    }
   ],
   "source": [
    "coefa = logrega.__dict__['coef_'][0]\n",
    "coefb = logregb.__dict__['coef_'][0]\n",
    "print(coefa)\n",
    "print(coefb)"
   ]
  },
  {
   "cell_type": "code",
   "execution_count": 74,
   "id": "1d9d7371",
   "metadata": {},
   "outputs": [
    {
     "name": "stdout",
     "output_type": "stream",
     "text": [
      "[-1.8 -1.4 -1.  -0.6 -0.2  0.2  0.6  1.   1.4  1.8]\n",
      "[ 4.86448418  4.19178569  3.5190872   2.84638872  2.17369023  1.50099174\n",
      "  0.82829325  0.15559476 -0.51710373 -1.18980221]\n"
     ]
    }
   ],
   "source": [
    "_xb = np.linspace(-1.8, 1.8, num=10)\n",
    "_yb = (logregb.__dict__['intercept_'] * (-1.0) - logregb.__dict__['coef_'][0][0] * _xb ) \\\n",
    "    / logregb.__dict__['coef_'][0][1]\n",
    "print(_xb)\n",
    "print(_yb)"
   ]
  },
  {
   "cell_type": "code",
   "execution_count": 75,
   "id": "c16d4a23",
   "metadata": {},
   "outputs": [
    {
     "data": {
      "text/plain": [
       "array([[-1.8       ,  4.86448418],\n",
       "       [-1.4       ,  4.19178569],\n",
       "       [-1.        ,  3.5190872 ],\n",
       "       [-0.6       ,  2.84638872],\n",
       "       [-0.2       ,  2.17369023],\n",
       "       [ 0.2       ,  1.50099174],\n",
       "       [ 0.6       ,  0.82829325],\n",
       "       [ 1.        ,  0.15559476],\n",
       "       [ 1.4       , -0.51710373],\n",
       "       [ 1.8       , -1.18980221]])"
      ]
     },
     "execution_count": 75,
     "metadata": {},
     "output_type": "execute_result"
    }
   ],
   "source": [
    "points = np.array([_xb, _yb]).T\n",
    "points"
   ]
  },
  {
   "cell_type": "code",
   "execution_count": 76,
   "id": "f6acdf7f",
   "metadata": {},
   "outputs": [
    {
     "data": {
      "text/plain": [
       "array([[16.54837014, 14.80332113],\n",
       "       [22.38562507, 13.41173216],\n",
       "       [28.22288   , 12.0201432 ],\n",
       "       [34.06013492, 10.62855424],\n",
       "       [39.89738985,  9.23696527],\n",
       "       [45.73464478,  7.84537631],\n",
       "       [51.57189971,  6.45378734],\n",
       "       [57.40915464,  5.06219838],\n",
       "       [63.24640957,  3.67060942],\n",
       "       [69.08366449,  2.27902045]])"
      ]
     },
     "execution_count": 76,
     "metadata": {},
     "output_type": "execute_result"
    }
   ],
   "source": [
    "points_scaled_back = scaler.inverse_transform(points)\n",
    "points_scaled_back"
   ]
  },
  {
   "cell_type": "code",
   "execution_count": 79,
   "id": "20940f55",
   "metadata": {},
   "outputs": [
    {
     "data": {
      "text/plain": [
       "<matplotlib.legend.Legend at 0x221506ba240>"
      ]
     },
     "execution_count": 79,
     "metadata": {},
     "output_type": "execute_result"
    },
    {
     "data": {
      "image/png": "[encoded data removed]",
      "text/plain": [
       "<Figure size 432x288 with 1 Axes>"
      ]
     },
     "metadata": {
      "needs_background": "light"
     },
     "output_type": "display_data"
    }
   ],
   "source": [
    "fig, ax = plt.subplots()\n",
    "ax.scatter(heart[heart[\"chd\"]==1][\"age\"],heart[heart[\"chd\"]==1][\"ldl\"],marker='^',label='positive', color='green')\n",
    "ax.scatter(heart[heart[\"chd\"]==0][\"age\"],heart[heart[\"chd\"]==0][\"ldl\"],marker='x',label='negative', color='chocolate')\n",
    "plt.xlim([13, 65])\n",
    "plt.ylim([0, 16])\n",
    "plt.plot(_xa, _ya)\n",
    "ax.set_xlabel('age', fontsize=15)\n",
    "ax.set_ylabel('ldl', fontsize=15)\n",
    "ax.legend()"
   ]
  },
  {
   "cell_type": "code",
   "execution_count": 80,
   "id": "0cc5e9cf",
   "metadata": {},
   "outputs": [
    {
     "data": {
      "text/plain": [
       "<matplotlib.legend.Legend at 0x2215073aeb8>"
      ]
     },
     "execution_count": 80,
     "metadata": {},
     "output_type": "execute_result"
    },
    {
     "data": {
      "image/png": "[encoded data removed]",
      "text/plain": [
       "<Figure size 432x288 with 1 Axes>"
      ]
     },
     "metadata": {
      "needs_background": "light"
     },
     "output_type": "display_data"
    }
   ],
   "source": [
    "fig, ax = plt.subplots()\n",
    "ax.scatter(heart[heart[\"chd\"]==1][\"age\"],heart[heart[\"chd\"]==1][\"ldl\"],marker='^',label='positive', color='green')\n",
    "ax.scatter(heart[heart[\"chd\"]==0][\"age\"],heart[heart[\"chd\"]==0][\"ldl\"],marker='x',label='negative', color='chocolate')\n",
    "plt.xlim([13, 65])\n",
    "plt.ylim([0, 16])\n",
    "plt.plot(points_scaled_back[:, 0], points_scaled_back[:, 1])\n",
    "ax.set_xlabel('age', fontsize=15)\n",
    "ax.set_ylabel('ldl', fontsize=15)\n",
    "ax.legend()"
   ]
  },
  {
   "cell_type": "markdown",
   "id": "65eacc10",
   "metadata": {},
   "source": [
    "TODO: Plot Figure 5 in the paper."
   ]
  },
  {
   "cell_type": "code",
   "execution_count": null,
   "id": "bad7db6d",
   "metadata": {},
   "outputs": [],
   "source": []
  },
  {
   "cell_type": "code",
   "execution_count": 35,
   "id": "a5d5a257",
   "metadata": {},
   "outputs": [],
   "source": [
    "beta = np.zeros(2)\n",
    "beta[0]=0.49555755\n",
    "beta[1]=0.49758905\n",
    "alpha= -0.3306306"
   ]
  },
  {
   "cell_type": "code",
   "execution_count": null,
   "id": "5c47edce",
   "metadata": {},
   "outputs": [],
   "source": []
  },
  {
   "cell_type": "code",
   "execution_count": null,
   "id": "4d5198ae",
   "metadata": {},
   "outputs": [],
   "source": []
  },
  {
   "cell_type": "code",
   "execution_count": null,
   "id": "574ccec6",
   "metadata": {},
   "outputs": [],
   "source": []
  },
  {
   "cell_type": "code",
   "execution_count": null,
   "id": "25d4b1bc",
   "metadata": {},
   "outputs": [],
   "source": []
  },
  {
   "cell_type": "code",
   "execution_count": null,
   "id": "1e0a0ccb",
   "metadata": {},
   "outputs": [],
   "source": []
  },
  {
   "cell_type": "code",
   "execution_count": null,
   "id": "3de7e5b6",
   "metadata": {},
   "outputs": [],
   "source": []
  },
  {
   "cell_type": "code",
   "execution_count": null,
   "id": "b2993b95",
   "metadata": {},
   "outputs": [],
   "source": []
  },
  {
   "cell_type": "code",
   "execution_count": null,
   "id": "3607c76a",
   "metadata": {},
   "outputs": [],
   "source": []
  },
  {
   "cell_type": "code",
   "execution_count": null,
   "id": "b4b588c4",
   "metadata": {},
   "outputs": [],
   "source": []
  },
  {
   "cell_type": "code",
   "execution_count": null,
   "id": "d6613e4c",
   "metadata": {},
   "outputs": [],
   "source": []
  },
  {
   "cell_type": "code",
   "execution_count": null,
   "id": "271c5128",
   "metadata": {},
   "outputs": [],
   "source": []
  },
  {
   "cell_type": "code",
   "execution_count": null,
   "id": "c77a7cd3",
   "metadata": {},
   "outputs": [],
   "source": []
  },
  {
   "cell_type": "code",
   "execution_count": null,
   "id": "7ef24457",
   "metadata": {},
   "outputs": [],
   "source": []
  }
 ],
 "metadata": {
  "kernelspec": {
   "display_name": "Python 3",
   "language": "python",
   "name": "python3"
  },
  "language_info": {
   "codemirror_mode": {
    "name": "ipython",
    "version": 3
   },
   "file_extension": ".py",
   "mimetype": "text/x-python",
   "name": "python",
   "nbconvert_exporter": "python",
   "pygments_lexer": "ipython3",
   "version": "3.7.0"
  }
 },
 "nbformat": 4,
 "nbformat_minor": 5
}
