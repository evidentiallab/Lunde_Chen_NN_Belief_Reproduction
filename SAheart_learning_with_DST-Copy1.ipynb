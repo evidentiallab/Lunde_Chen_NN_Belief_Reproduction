{
 "cells": [
  {
   "cell_type": "markdown",
   "metadata": {},
   "source": [
    "Reference:https://www.kaggle.com/autuanliuyc/logistic-regression-with-tensorflow"
   ]
  },
  {
   "cell_type": "code",
   "execution_count": 1,
   "metadata": {},
   "outputs": [],
   "source": [
    "%matplotlib inline"
   ]
  },
  {
   "cell_type": "code",
   "execution_count": 2,
   "metadata": {},
   "outputs": [],
   "source": [
    "from __future__ import absolute_import, division, print_function, unicode_literals\n",
    "import numpy as np # linear algebra\n",
    "import seaborn as sns\n",
    "sns.set(style='whitegrid')\n",
    "import pandas as pd # data processing, CSV file I/O (e.g. pd.read_csv)\n",
    "import matplotlib.pyplot as plt\n",
    "import os"
   ]
  },
  {
   "cell_type": "markdown",
   "metadata": {},
   "source": [
    "### Step 1: Read the data"
   ]
  },
  {
   "cell_type": "code",
   "execution_count": 3,
   "metadata": {},
   "outputs": [],
   "source": [
    "df=pd.read_csv('SAheart.data', sep=\",\")"
   ]
  },
  {
   "cell_type": "code",
   "execution_count": 4,
   "metadata": {},
   "outputs": [
    {
     "data": {
      "text/plain": [
       "(462, 11)"
      ]
     },
     "execution_count": 4,
     "metadata": {},
     "output_type": "execute_result"
    }
   ],
   "source": [
    "df.shape"
   ]
  },
  {
   "cell_type": "code",
   "execution_count": 5,
   "metadata": {},
   "outputs": [
    {
     "data": {
      "text/html": [
       "<div>\n",
       "<style scoped>\n",
       "    .dataframe tbody tr th:only-of-type {\n",
       "        vertical-align: middle;\n",
       "    }\n",
       "\n",
       "    .dataframe tbody tr th {\n",
       "        vertical-align: top;\n",
       "    }\n",
       "\n",
       "    .dataframe thead th {\n",
       "        text-align: right;\n",
       "    }\n",
       "</style>\n",
       "<table border=\"1\" class=\"dataframe\">\n",
       "  <thead>\n",
       "    <tr style=\"text-align: right;\">\n",
       "      <th></th>\n",
       "      <th>row.names</th>\n",
       "      <th>sbp</th>\n",
       "      <th>tobacco</th>\n",
       "      <th>ldl</th>\n",
       "      <th>adiposity</th>\n",
       "      <th>famhist</th>\n",
       "      <th>typea</th>\n",
       "      <th>obesity</th>\n",
       "      <th>alcohol</th>\n",
       "      <th>age</th>\n",
       "      <th>chd</th>\n",
       "    </tr>\n",
       "  </thead>\n",
       "  <tbody>\n",
       "    <tr>\n",
       "      <th>0</th>\n",
       "      <td>1</td>\n",
       "      <td>160</td>\n",
       "      <td>12.00</td>\n",
       "      <td>5.73</td>\n",
       "      <td>23.11</td>\n",
       "      <td>Present</td>\n",
       "      <td>49</td>\n",
       "      <td>25.30</td>\n",
       "      <td>97.20</td>\n",
       "      <td>52</td>\n",
       "      <td>1</td>\n",
       "    </tr>\n",
       "    <tr>\n",
       "      <th>1</th>\n",
       "      <td>2</td>\n",
       "      <td>144</td>\n",
       "      <td>0.01</td>\n",
       "      <td>4.41</td>\n",
       "      <td>28.61</td>\n",
       "      <td>Absent</td>\n",
       "      <td>55</td>\n",
       "      <td>28.87</td>\n",
       "      <td>2.06</td>\n",
       "      <td>63</td>\n",
       "      <td>1</td>\n",
       "    </tr>\n",
       "    <tr>\n",
       "      <th>2</th>\n",
       "      <td>3</td>\n",
       "      <td>118</td>\n",
       "      <td>0.08</td>\n",
       "      <td>3.48</td>\n",
       "      <td>32.28</td>\n",
       "      <td>Present</td>\n",
       "      <td>52</td>\n",
       "      <td>29.14</td>\n",
       "      <td>3.81</td>\n",
       "      <td>46</td>\n",
       "      <td>0</td>\n",
       "    </tr>\n",
       "    <tr>\n",
       "      <th>3</th>\n",
       "      <td>4</td>\n",
       "      <td>170</td>\n",
       "      <td>7.50</td>\n",
       "      <td>6.41</td>\n",
       "      <td>38.03</td>\n",
       "      <td>Present</td>\n",
       "      <td>51</td>\n",
       "      <td>31.99</td>\n",
       "      <td>24.26</td>\n",
       "      <td>58</td>\n",
       "      <td>1</td>\n",
       "    </tr>\n",
       "    <tr>\n",
       "      <th>4</th>\n",
       "      <td>5</td>\n",
       "      <td>134</td>\n",
       "      <td>13.60</td>\n",
       "      <td>3.50</td>\n",
       "      <td>27.78</td>\n",
       "      <td>Present</td>\n",
       "      <td>60</td>\n",
       "      <td>25.99</td>\n",
       "      <td>57.34</td>\n",
       "      <td>49</td>\n",
       "      <td>1</td>\n",
       "    </tr>\n",
       "  </tbody>\n",
       "</table>\n",
       "</div>"
      ],
      "text/plain": [
       "   row.names  sbp  tobacco   ldl  adiposity  famhist  typea  obesity  alcohol  \\\n",
       "0          1  160    12.00  5.73      23.11  Present     49    25.30    97.20   \n",
       "1          2  144     0.01  4.41      28.61   Absent     55    28.87     2.06   \n",
       "2          3  118     0.08  3.48      32.28  Present     52    29.14     3.81   \n",
       "3          4  170     7.50  6.41      38.03  Present     51    31.99    24.26   \n",
       "4          5  134    13.60  3.50      27.78  Present     60    25.99    57.34   \n",
       "\n",
       "   age  chd  \n",
       "0   52    1  \n",
       "1   63    1  \n",
       "2   46    0  \n",
       "3   58    1  \n",
       "4   49    1  "
      ]
     },
     "execution_count": 5,
     "metadata": {},
     "output_type": "execute_result"
    }
   ],
   "source": [
    "df.head()"
   ]
  },
  {
   "cell_type": "markdown",
   "metadata": {},
   "source": [
    "### Step 2: A glance at the dataset"
   ]
  },
  {
   "cell_type": "code",
   "execution_count": 6,
   "metadata": {},
   "outputs": [
    {
     "data": {
      "text/plain": [
       "<matplotlib.legend.Legend at 0x2b449e48>"
      ]
     },
     "execution_count": 6,
     "metadata": {},
     "output_type": "execute_result"
    },
    {
     "data": {
      "image/png": "[encoded data removed]",
      "text/plain": [
       "<Figure size 432x288 with 1 Axes>"
      ]
     },
     "metadata": {},
     "output_type": "display_data"
    }
   ],
   "source": [
    "fig, ax = plt.subplots()\n",
    "ax.scatter(df[df[\"chd\"]==1][\"age\"],df[df[\"chd\"]==1][\"ldl\"],marker='^',label='positive')\n",
    "ax.scatter(df[df[\"chd\"]==0][\"age\"],df[df[\"chd\"]==0][\"ldl\"],marker='x',label='negative')\n",
    "ax.set_xlabel('age', fontsize=15)\n",
    "ax.set_ylabel('ldl', fontsize=15)\n",
    "ax.legend()"
   ]
  },
  {
   "cell_type": "code",
   "execution_count": 7,
   "metadata": {},
   "outputs": [],
   "source": [
    "X = df[['age','ldl']].values\n",
    "y = df.chd.values"
   ]
  },
  {
   "cell_type": "code",
   "execution_count": null,
   "metadata": {},
   "outputs": [],
   "source": []
  },
  {
   "cell_type": "markdown",
   "metadata": {},
   "source": [
    "### Step 3: Split data"
   ]
  },
  {
   "cell_type": "markdown",
   "metadata": {},
   "source": [
    "- trainset: 80%\n",
    "- testset: 20%"
   ]
  },
  {
   "cell_type": "code",
   "execution_count": 8,
   "metadata": {},
   "outputs": [],
   "source": [
    "# set seed for numpy and tensorflow\n",
    "# set for reproducible results\n",
    "seed = 5\n",
    "np.random.seed(seed)\n",
    "# tf.set_random_seed(seed)"
   ]
  },
  {
   "cell_type": "code",
   "execution_count": 9,
   "metadata": {},
   "outputs": [],
   "source": [
    "# set replace=False, Avoid double sampling\n",
    "train_index = np.random.choice(len(X), int(round(len(X) * 0.8)), replace=False)"
   ]
  },
  {
   "cell_type": "code",
   "execution_count": 10,
   "metadata": {},
   "outputs": [],
   "source": [
    "# diff set\n",
    "test_index = np.array(list(set(range(len(X))) - set(train_index)))\n",
    "train_X = X[train_index]\n",
    "train_y = y[train_index]\n",
    "test_X = X[test_index]\n",
    "test_y = y[test_index]"
   ]
  },
  {
   "cell_type": "code",
   "execution_count": 11,
   "metadata": {},
   "outputs": [],
   "source": [
    "# Define the max-min normalized function\n",
    "def min_max_normalized(data):\n",
    "    col_max = np.max(data, axis=0)\n",
    "    col_min = np.min(data, axis=0)\n",
    "    return np.divide(data - col_min, col_max - col_min)"
   ]
  },
  {
   "cell_type": "code",
   "execution_count": 12,
   "metadata": {},
   "outputs": [],
   "source": [
    "# Define the mean-std normalized function\n",
    "def mean_std_normalized(data):\n",
    "    col_mean = np.mean(data, axis=0)\n",
    "    col_std = np.std(data, axis=0)\n",
    "    return np.divide(data - col_mean, col_std)"
   ]
  },
  {
   "cell_type": "markdown",
   "metadata": {},
   "source": [
    "### Step 4: Normalized processing"
   ]
  },
  {
   "cell_type": "code",
   "execution_count": 13,
   "metadata": {},
   "outputs": [],
   "source": [
    "# Normalized processing, must be placed after the data set segmentation, \n",
    "# otherwise the test set will be affected by the training set\n",
    "train_X = mean_std_normalized(train_X)\n",
    "test_X = mean_std_normalized(test_X)"
   ]
  },
  {
   "cell_type": "code",
   "execution_count": 14,
   "metadata": {},
   "outputs": [],
   "source": [
    "#verify the normalization results by plotting\n",
    "df_trainX = pd.DataFrame(train_X)\n",
    "df_testX = pd.DataFrame(test_X)\n",
    "df_train_index = pd.DataFrame(train_index)\n",
    "df_test_index = pd.DataFrame(test_index)"
   ]
  },
  {
   "cell_type": "code",
   "execution_count": 15,
   "metadata": {},
   "outputs": [
    {
     "data": {
      "text/html": [
       "<div>\n",
       "<style scoped>\n",
       "    .dataframe tbody tr th:only-of-type {\n",
       "        vertical-align: middle;\n",
       "    }\n",
       "\n",
       "    .dataframe tbody tr th {\n",
       "        vertical-align: top;\n",
       "    }\n",
       "\n",
       "    .dataframe thead th {\n",
       "        text-align: right;\n",
       "    }\n",
       "</style>\n",
       "<table border=\"1\" class=\"dataframe\">\n",
       "  <thead>\n",
       "    <tr style=\"text-align: right;\">\n",
       "      <th></th>\n",
       "      <th>0</th>\n",
       "      <th>1</th>\n",
       "      <th>chd</th>\n",
       "    </tr>\n",
       "  </thead>\n",
       "  <tbody>\n",
       "    <tr>\n",
       "      <th>0</th>\n",
       "      <td>-1.120361</td>\n",
       "      <td>-1.001900</td>\n",
       "      <td>0</td>\n",
       "    </tr>\n",
       "    <tr>\n",
       "      <th>1</th>\n",
       "      <td>-0.775089</td>\n",
       "      <td>-0.159628</td>\n",
       "      <td>1</td>\n",
       "    </tr>\n",
       "    <tr>\n",
       "      <th>2</th>\n",
       "      <td>0.605999</td>\n",
       "      <td>-0.972347</td>\n",
       "      <td>1</td>\n",
       "    </tr>\n",
       "    <tr>\n",
       "      <th>3</th>\n",
       "      <td>-0.844143</td>\n",
       "      <td>-0.474865</td>\n",
       "      <td>1</td>\n",
       "    </tr>\n",
       "    <tr>\n",
       "      <th>4</th>\n",
       "      <td>-1.051306</td>\n",
       "      <td>-0.750697</td>\n",
       "      <td>0</td>\n",
       "    </tr>\n",
       "  </tbody>\n",
       "</table>\n",
       "</div>"
      ],
      "text/plain": [
       "          0         1  chd\n",
       "0 -1.120361 -1.001900    0\n",
       "1 -0.775089 -0.159628    1\n",
       "2  0.605999 -0.972347    1\n",
       "3 -0.844143 -0.474865    1\n",
       "4 -1.051306 -0.750697    0"
      ]
     },
     "execution_count": 15,
     "metadata": {},
     "output_type": "execute_result"
    }
   ],
   "source": [
    "df_X=pd.concat([df_trainX,df_testX],ignore_index=True)\n",
    "df_y=pd.concat([pd.DataFrame(train_y),pd.DataFrame(test_y)],ignore_index=True)\n",
    "df_norm=pd.concat([df_X,df_y],axis=1)\n",
    "df_norm.columns=[0,1,'chd']\n",
    "\n",
    "df_norm.head()"
   ]
  },
  {
   "cell_type": "code",
   "execution_count": 16,
   "metadata": {},
   "outputs": [
    {
     "data": {
      "text/plain": [
       "Text(0,0.5,u'ldl')"
      ]
     },
     "execution_count": 16,
     "metadata": {},
     "output_type": "execute_result"
    },
    {
     "data": {
      "image/png": "[encoded data removed]",
      "text/plain": [
       "<Figure size 864x288 with 2 Axes>"
      ]
     },
     "metadata": {},
     "output_type": "display_data"
    }
   ],
   "source": [
    "fig, ax = plt.subplots(1,2, figsize=(12,4))\n",
    "ax[0].scatter(df[df[\"chd\"]==1][\"age\"],df[df[\"chd\"]==1][\"ldl\"],marker='^',label='positive')\n",
    "#ax[0].scatter(df[df[\"chd\"]==0][\"age\"],df[df[\"chd\"]==0][\"ldl\"],marker='x',label='negative')\n",
    "ax[0].set_xlabel('age', fontsize=15)\n",
    "ax[0].set_ylabel('ldl', fontsize=15)\n",
    "ax[1].scatter(df_norm[df_norm[\"chd\"]==1][0],df_norm[df_norm[\"chd\"]==1][1],marker='^',label='positive')\n",
    "#ax[1].scatter(df_norm[df_norm[\"chd\"]==0][0],df_norm[df_norm[\"chd\"]==0][1],marker='x',label='negative')\n",
    "ax[1].set_xlabel('age', fontsize=15)\n",
    "ax[1].set_ylabel('ldl', fontsize=15)\n",
    "#ax[1].legend()"
   ]
  },
  {
   "cell_type": "markdown",
   "metadata": {},
   "source": [
    "### Step 5: Build the model framework"
   ]
  },
  {
   "cell_type": "code",
   "execution_count": 17,
   "metadata": {},
   "outputs": [
    {
     "ename": "NameError",
     "evalue": "name 'tf' is not defined",
     "output_type": "error",
     "traceback": [
      "\u001b[1;31m---------------------------------------------------------------------------\u001b[0m",
      "\u001b[1;31mNameError\u001b[0m                                 Traceback (most recent call last)",
      "\u001b[1;32m<ipython-input-17-cdc9623a2a5d>\u001b[0m in \u001b[0;36m<module>\u001b[1;34m()\u001b[0m\n\u001b[0;32m      2\u001b[0m \u001b[1;31m# Declare the variables that need to be learned and initialization\u001b[0m\u001b[1;33m\u001b[0m\u001b[1;33m\u001b[0m\u001b[0m\n\u001b[0;32m      3\u001b[0m \u001b[1;31m# There are 2 features here, A's dimension is (2, 1)\u001b[0m\u001b[1;33m\u001b[0m\u001b[1;33m\u001b[0m\u001b[0m\n\u001b[1;32m----> 4\u001b[1;33m \u001b[0mA\u001b[0m \u001b[1;33m=\u001b[0m \u001b[0mtf\u001b[0m\u001b[1;33m.\u001b[0m\u001b[0mVariable\u001b[0m\u001b[1;33m(\u001b[0m\u001b[0mtf\u001b[0m\u001b[1;33m.\u001b[0m\u001b[0mrandom_normal\u001b[0m\u001b[1;33m(\u001b[0m\u001b[0mshape\u001b[0m\u001b[1;33m=\u001b[0m\u001b[1;33m[\u001b[0m\u001b[1;36m2\u001b[0m\u001b[1;33m,\u001b[0m \u001b[1;36m1\u001b[0m\u001b[1;33m]\u001b[0m\u001b[1;33m)\u001b[0m\u001b[1;33m)\u001b[0m\u001b[1;33m\u001b[0m\u001b[0m\n\u001b[0m\u001b[0;32m      5\u001b[0m \u001b[0mb\u001b[0m \u001b[1;33m=\u001b[0m \u001b[0mtf\u001b[0m\u001b[1;33m.\u001b[0m\u001b[0mVariable\u001b[0m\u001b[1;33m(\u001b[0m\u001b[0mtf\u001b[0m\u001b[1;33m.\u001b[0m\u001b[0mrandom_normal\u001b[0m\u001b[1;33m(\u001b[0m\u001b[0mshape\u001b[0m\u001b[1;33m=\u001b[0m\u001b[1;33m[\u001b[0m\u001b[1;36m1\u001b[0m\u001b[1;33m,\u001b[0m \u001b[1;36m1\u001b[0m\u001b[1;33m]\u001b[0m\u001b[1;33m)\u001b[0m\u001b[1;33m)\u001b[0m\u001b[1;33m\u001b[0m\u001b[0m\n\u001b[0;32m      6\u001b[0m \u001b[0minit\u001b[0m \u001b[1;33m=\u001b[0m \u001b[0mtf\u001b[0m\u001b[1;33m.\u001b[0m\u001b[0mglobal_variables_initializer\u001b[0m\u001b[1;33m(\u001b[0m\u001b[1;33m)\u001b[0m\u001b[1;33m\u001b[0m\u001b[0m\n",
      "\u001b[1;31mNameError\u001b[0m: name 'tf' is not defined"
     ]
    }
   ],
   "source": [
    "# Begin building the model framework\n",
    "# Declare the variables that need to be learned and initialization\n",
    "# There are 2 features here, A's dimension is (2, 1)\n",
    "A = tf.Variable(tf.random_normal(shape=[2, 1]))\n",
    "b = tf.Variable(tf.random_normal(shape=[1, 1]))\n",
    "init = tf.global_variables_initializer()\n",
    "sess = tf.Session()\n",
    "sess.run(init)"
   ]
  },
  {
   "cell_type": "code",
   "execution_count": null,
   "metadata": {},
   "outputs": [],
   "source": [
    "# Define placeholders\n",
    "data = tf.placeholder(dtype=tf.float32, shape=[None, 2])\n",
    "target = tf.placeholder(dtype=tf.float32, shape=[None, 1])"
   ]
  },
  {
   "cell_type": "code",
   "execution_count": null,
   "metadata": {},
   "outputs": [],
   "source": [
    "# Declare the model you need to learn\n",
    "mod = tf.matmul(data, A) + b"
   ]
  },
  {
   "cell_type": "code",
   "execution_count": null,
   "metadata": {},
   "outputs": [],
   "source": [
    "# Declare loss function\n",
    "# Use the sigmoid cross-entropy loss function,\n",
    "# first doing a sigmoid on the model result and then using the cross-entropy loss function\n",
    "loss = tf.reduce_mean(tf.nn.sigmoid_cross_entropy_with_logits(logits=mod, labels=target))"
   ]
  },
  {
   "cell_type": "code",
   "execution_count": null,
   "metadata": {},
   "outputs": [],
   "source": [
    "# Define the learning rate， batch_size etc.\n",
    "learning_rate = 0.001\n",
    "batch_size = 30\n",
    "iter_num = 15000"
   ]
  },
  {
   "cell_type": "code",
   "execution_count": null,
   "metadata": {},
   "outputs": [],
   "source": [
    "# Define the optimizer\n",
    "opt = tf.train.GradientDescentOptimizer(learning_rate)"
   ]
  },
  {
   "cell_type": "code",
   "execution_count": null,
   "metadata": {},
   "outputs": [],
   "source": [
    "# Define the goal\n",
    "goal = opt.minimize(loss)"
   ]
  },
  {
   "cell_type": "code",
   "execution_count": null,
   "metadata": {},
   "outputs": [],
   "source": [
    "# Define the accuracy\n",
    "# The default threshold is 0.5, rounded off directly\n",
    "prediction = tf.round(tf.sigmoid(mod))\n",
    "# Bool into float32 type\n",
    "correct = tf.cast(tf.equal(prediction, target), dtype=tf.float32)\n",
    "# Average\n",
    "accuracy = tf.reduce_mean(correct)\n",
    "# End of the definition of the model framework"
   ]
  },
  {
   "cell_type": "code",
   "execution_count": null,
   "metadata": {},
   "outputs": [],
   "source": [
    "# Start training model\n",
    "# Define the variable that stores the result\n",
    "loss_trace = []\n",
    "train_acc = []\n",
    "test_acc = []"
   ]
  },
  {
   "cell_type": "markdown",
   "metadata": {},
   "source": [
    "### Step 6: Model training"
   ]
  },
  {
   "cell_type": "code",
   "execution_count": null,
   "metadata": {},
   "outputs": [],
   "source": [
    "# checkpoint_path = \"training_1/cp.ckpt\"\n",
    "# checkpoint_dir = os.path.dirname(checkpoint_path)\n",
    "# saver = tf.train.Saver() # defaults to saving all variables "
   ]
  },
  {
   "cell_type": "code",
   "execution_count": null,
   "metadata": {},
   "outputs": [],
   "source": [
    "# training model\n",
    "for epoch in range(iter_num):\n",
    "    # Generate random batch index\n",
    "    batch_index = np.random.choice(len(train_X), size=batch_size)\n",
    "    batch_train_X = train_X[batch_index]\n",
    "    batch_train_y = np.matrix(train_y[batch_index]).T\n",
    "    sess.run(goal, feed_dict={data: batch_train_X, target: batch_train_y})\n",
    "    temp_loss = sess.run(loss, feed_dict={data: batch_train_X, target: batch_train_y})\n",
    "    # convert into a matrix, and the shape of the placeholder to correspond\n",
    "    temp_train_acc = sess.run(accuracy, feed_dict={data: train_X, target: np.matrix(train_y).T})\n",
    "    temp_test_acc = sess.run(accuracy, feed_dict={data: test_X, target: np.matrix(test_y).T})\n",
    "    # recode the result\n",
    "    loss_trace.append(temp_loss)\n",
    "    train_acc.append(temp_train_acc)\n",
    "    test_acc.append(temp_test_acc)\n",
    "    # output\n",
    "    if (epoch + 1) % 300 == 0:\n",
    "        print('epoch: {:4d} loss: {:5f} train_acc: {:5f} test_acc: {:5f}'.format(epoch + 1, temp_loss,\n",
    "                                                                          temp_train_acc, temp_test_acc))\n",
    "        saver.save(sess, checkpoint_dir + 'model.ckpt')\n"
   ]
  },
  {
   "cell_type": "markdown",
   "metadata": {},
   "source": [
    "### Step 7: Visualization"
   ]
  },
  {
   "cell_type": "code",
   "execution_count": null,
   "metadata": {},
   "outputs": [],
   "source": [
    "# Visualization of the results\n",
    "# loss function\n",
    "plt.plot(loss_trace)\n",
    "plt.title('Cross Entropy Loss')\n",
    "plt.xlabel('epoch')\n",
    "plt.ylabel('loss')\n",
    "plt.savefig('./loss.jpg')\n",
    "plt.show()"
   ]
  },
  {
   "cell_type": "code",
   "execution_count": null,
   "metadata": {},
   "outputs": [],
   "source": [
    "# accuracy\n",
    "plt.plot(train_acc, 'b-', label='train accuracy')\n",
    "plt.plot(test_acc, 'k-', label='test accuracy')\n",
    "plt.xlabel('epoch')\n",
    "plt.ylabel('accuracy')\n",
    "plt.title('Train and Test Accuracy')\n",
    "plt.legend(loc='best')\n",
    "plt.savefig('./accuracy.jpg')\n",
    "plt.show()"
   ]
  },
  {
   "cell_type": "markdown",
   "metadata": {},
   "source": [
    "### Step 8: Belief functions analysis (论文内容)"
   ]
  },
  {
   "cell_type": "code",
   "execution_count": null,
   "metadata": {},
   "outputs": [],
   "source": [
    "# 训练得到的参数\n",
    "beta=sess.run(A)\n",
    "beta_0=sess.run(b)\n",
    "alpha=(beta_0/len(beta))[0] #论文第4章中证明，alpha_j=beta_0/J (Equ.25)\n",
    "print(\"beta=\",beta)\n",
    "print(\"beta_0=\",beta_0)\n",
    "print(\"alpha=\",alpha)\n",
    "\n",
    "# beta= [[0.5974239]\n",
    "#  [0.3825687]]\n",
    "# beta_0= [[-0.7394441]]\n",
    "# alpha= [-0.36972204]"
   ]
  },
  {
   "cell_type": "code",
   "execution_count": null,
   "metadata": {},
   "outputs": [],
   "source": [
    "# # test code\n",
    "# weights= np.empty((len(df_norm.index), len(beta)))\n",
    "# print(weights.shape)\n",
    "# np.array([df_norm[0]*beta[0]+alpha]).shape\n"
   ]
  },
  {
   "cell_type": "code",
   "execution_count": null,
   "metadata": {},
   "outputs": [],
   "source": [
    "# Definition of the weights of evidence w_j = beta_j*phi(x)+alpha_j, refer to Equ.16 in paper NNBelief\n",
    "def trained_weight(A,b,X):  \n",
    "    weights= np.empty((len(X.index), len(A)))\n",
    "    for i in range(len(A)):\n",
    "        weights[:,[i]]= np.array([X[i]*A[i]+b]).T\n",
    "    return weights \n",
    "\n",
    "# Calculate positive & negative weights of evidence (w^+,w^-，参见Equ.16下面那段描述)\n",
    "def weight_of_evidence(weight):\n",
    "    W=[]\n",
    "    if isinstance(weight[0],list):\n",
    "        for i in range(len(weight)):\n",
    "            W.append((max(0,weight[i][0]),max(0,-weight[i][0])))\n",
    "    else:\n",
    "        for i in range(len(weight)):\n",
    "            W.append((max(0,weight[i]),max(0,-weight[i])))        \n",
    "    return W\n",
    "\n",
    "# Calculate the sum of positive & negative weights (参见Equ.17下面一行公式)\n",
    "def sum_weight(W):\n",
    "    weight_pos_temp = np.empty((W.shape[0], W.shape[1]))\n",
    "    weight_neg_temp = np.empty((W.shape[0], W.shape[1]))\n",
    "    weight_pos = np.empty((W.shape[0], 1))\n",
    "    weight_neg = np.empty((W.shape[0], 1))\n",
    "    for i in range(W.shape[1]):\n",
    "        weight_pos_temp[:,[i]]=np.array(weight_of_evidence(W[:,[i]]))[:,[0]]\n",
    "        weight_neg_temp[:,[i]]=np.array(weight_of_evidence(W[:,[i]]))[:,[1]]\n",
    "    weight_pos=np.sum(weight_pos_temp,axis=1)\n",
    "    weight_neg=np.sum(weight_neg_temp,axis=1)\n",
    "    return(weight_pos,weight_neg)\n",
    "\n",
    "# Definition of the degree of conflict k=[1-exp(-w^+)]*[1-exp(-w^-)] (Equ.21c)\n",
    "def degree_of_conflict(W_pos,W_neg):\n",
    "    k=(1-np.exp(-1*W_pos))*(1-np.exp(-1*W_neg))\n",
    "    return k\n",
    "\n",
    "# Calculate conflict from trained parameters and feature values\n",
    "def conflict(A,b,X):\n",
    "    w_j=trained_weight(A,b,X)   \n",
    "    weight_pos,weight_neg=sum_weight(w_j)\n",
    "    k=degree_of_conflict(weight_pos,weight_neg)\n",
    "    return k\n",
    "\n",
    "def centralized(data):\n",
    "    col_mean = np.mean(data, axis=0)\n",
    "    return (data - col_mean)\n"
   ]
  },
  {
   "cell_type": "code",
   "execution_count": null,
   "metadata": {},
   "outputs": [],
   "source": [
    "# # test code\n",
    "# X=[-1,2,-3,4,-5,-6]\n",
    "# print(weight_of_evidence(X))\n",
    "# Y=[[-1],[2],[-3],[4],[-5],[-6]]\n",
    "# print(weight_of_evidence(Y))   \n",
    "# Z=np.array([1,2,3,4,5,6])\n",
    "# print(np.exp(Z))"
   ]
  },
  {
   "cell_type": "code",
   "execution_count": null,
   "metadata": {},
   "outputs": [],
   "source": [
    "# Weights of evidence \n",
    "weights=trained_weight(beta,alpha,df_norm)\n",
    "#print(weights[:,[0]])\n",
    "#print(np.array(weight_of_evidence(weights[:,[0]])))\n",
    "print(weights)"
   ]
  },
  {
   "cell_type": "code",
   "execution_count": null,
   "metadata": {},
   "outputs": [],
   "source": [
    "# # test code\n",
    "# np.array(weight_of_evidence(weights[:,[0]]))[:,[1]]+np.array(weight_of_evidence(weights[:,[1]]))[:,[1]]"
   ]
  },
  {
   "cell_type": "code",
   "execution_count": null,
   "metadata": {
    "scrolled": true
   },
   "outputs": [],
   "source": [
    "# positive and negative weights\n",
    "weight_pos,weight_neg=sum_weight(weights)\n",
    "# degree of conflict\n",
    "k=degree_of_conflict(weight_pos,weight_neg)"
   ]
  },
  {
   "cell_type": "code",
   "execution_count": null,
   "metadata": {
    "scrolled": false
   },
   "outputs": [],
   "source": [
    "#用conflict()直接求k值\n",
    "kk=conflict(beta,alpha,df_norm)"
   ]
  },
  {
   "cell_type": "code",
   "execution_count": null,
   "metadata": {},
   "outputs": [],
   "source": [
    "\n",
    "ldl = np.arange(0,15,0.3)\n",
    "age = np.arange(0,70,1.4)\n",
    "\n",
    "ldl_norm=centralized(ldl)\n",
    "age_norm=centralized(age)\n",
    "\n",
    "#将原始数据变成网格数据形式\n",
    "X,Y = np.meshgrid(age_norm,ldl_norm)"
   ]
  },
  {
   "cell_type": "code",
   "execution_count": null,
   "metadata": {},
   "outputs": [],
   "source": [
    "X"
   ]
  },
  {
   "cell_type": "code",
   "execution_count": null,
   "metadata": {},
   "outputs": [],
   "source": [
    "Y"
   ]
  },
  {
   "cell_type": "code",
   "execution_count": null,
   "metadata": {},
   "outputs": [],
   "source": [
    "\"# beta= [[0.5974239]\\n\",\n",
    "    \"#  [0.3825687]]\\n\",\n",
    "    \"# beta_0= [[-0.7394441]]\\n\",\n",
    "    \"# alpha= [-0.36972204]\""
   ]
  },
  {
   "cell_type": "code",
   "execution_count": null,
   "metadata": {},
   "outputs": [],
   "source": [
    "beta= [[0.5974239]\n",
    "       [0.3825687]]"
   ]
  },
  {
   "cell_type": "code",
   "execution_count": null,
   "metadata": {},
   "outputs": [],
   "source": [
    "beta= [[0.5974239], [0.3825687]]"
   ]
  },
  {
   "cell_type": "code",
   "execution_count": null,
   "metadata": {},
   "outputs": [],
   "source": [
    "alpha= [-0.36972204]"
   ]
  },
  {
   "cell_type": "code",
   "execution_count": null,
   "metadata": {},
   "outputs": [],
   "source": [
    "kk=conflict(beta,alpha,pd.DataFrame({0:(X.flatten()),1:(Y.flatten())})).reshape(50,50)\n"
   ]
  },
  {
   "cell_type": "code",
   "execution_count": null,
   "metadata": {},
   "outputs": [],
   "source": [
    "kk"
   ]
  },
  {
   "cell_type": "code",
   "execution_count": null,
   "metadata": {},
   "outputs": [],
   "source": [
    "#画图8(c)实线部分，k值的轮廓线\n",
    "\n",
    "ldl = np.arange(0,15,0.3)\n",
    "age = np.arange(0,70,1.4)\n",
    "\n",
    "ldl_norm=mean_std_normalized(ldl)\n",
    "age_norm=mean_std_normalized(age)\n",
    "\n",
    "#将原始数据变成网格数据形式\n",
    "X,Y = np.meshgrid(age_norm,ldl_norm)\n",
    "kk=conflict(beta,alpha,pd.DataFrame({0:(X.flatten()),1:(Y.flatten())})).reshape(50,50)\n",
    "\n",
    "fig, ax = plt.subplots()\n",
    "CS = ax.contour(X, Y, kk)\n",
    "ax.clabel(CS, inline=1, fontsize=10)\n",
    "ax.set_title('degree of conflict')\n"
   ]
  },
  {
   "cell_type": "code",
   "execution_count": null,
   "metadata": {},
   "outputs": [],
   "source": []
  }
 ],
 "metadata": {
  "kernelspec": {
   "display_name": "Python 3",
   "language": "python",
   "name": "python3"
  },
  "language_info": {
   "codemirror_mode": {
    "name": "ipython",
    "version": 3
   },
   "file_extension": ".py",
   "mimetype": "text/x-python",
   "name": "python",
   "nbconvert_exporter": "python",
   "pygments_lexer": "ipython3",
   "version": "3.7.0"
  }
 },
 "nbformat": 4,
 "nbformat_minor": 2
}
